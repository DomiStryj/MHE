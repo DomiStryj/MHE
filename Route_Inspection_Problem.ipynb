{
  "nbformat": 4,
  "nbformat_minor": 0,
  "metadata": {
    "colab": {
      "provenance": [],
      "authorship_tag": "ABX9TyOyzK8w+bjoqokNOqWw/xGh",
      "include_colab_link": true
    },
    "kernelspec": {
      "name": "python3",
      "display_name": "Python 3"
    },
    "language_info": {
      "name": "python"
    }
  },
  "cells": [
    {
      "cell_type": "markdown",
      "metadata": {
        "id": "view-in-github",
        "colab_type": "text"
      },
      "source": [
        "<a href=\"https://colab.research.google.com/github/DomiStryj/MHE/blob/master/Route_Inspection_Problem.ipynb\" target=\"_parent\"><img src=\"https://colab.research.google.com/assets/colab-badge.svg\" alt=\"Open In Colab\"/></a>"
      ]
    },
    {
      "cell_type": "markdown",
      "source": [
        "# Problem chińskiego listonosza/Route Inspection Problem"
      ],
      "metadata": {
        "id": "f6WJ-hbWaWMi"
      }
    },
    {
      "cell_type": "code",
      "source": [
        "!sudo apt update\n",
        "!sudo apt install libcairo2-dev ffmpeg texlive texlive-latex-extra texlive-fonts-extra texlive-latex-recommended texlive-science tipa libpango1.0-dev\n",
        "!pip install manim\n",
        "!pip install IPython --upgrade\n",
        "!pip install --upgrade plotly\n",
        "!pip install jupyter-dash"
      ],
      "metadata": {
        "colab": {
          "base_uri": "https://localhost:8080/"
        },
        "id": "qM2dgUYtt8x7",
        "outputId": "fcce92f9-53f9-4fdf-a3eb-24c5e92314cd"
      },
      "execution_count": 59,
      "outputs": [
        {
          "output_type": "stream",
          "name": "stdout",
          "text": [
            "\u001b[33m\r0% [Working]\u001b[0m\r            \rHit:1 https://cloud.r-project.org/bin/linux/ubuntu focal-cran40/ InRelease\n",
            "\u001b[33m\r0% [Connecting to archive.ubuntu.com (185.125.190.39)] [Connecting to security.\u001b[0m\r                                                                               \rHit:2 https://developer.download.nvidia.com/compute/cuda/repos/ubuntu2004/x86_64  InRelease\n",
            "\u001b[33m\r0% [Connecting to archive.ubuntu.com (185.125.190.39)] [Connecting to security.\u001b[0m\u001b[33m\r                                                                               \r0% [Waiting for headers] [Waiting for headers] [Waiting for headers]\u001b[0m\r                                                                    \rGet:3 http://security.ubuntu.com/ubuntu focal-security InRelease [114 kB]\n",
            "\u001b[33m\r0% [Waiting for headers] [3 InRelease 14.2 kB/114 kB 12%] [Waiting for headers]\u001b[0m\r                                                                               \rHit:4 http://ppa.launchpad.net/c2d4u.team/c2d4u4.0+/ubuntu focal InRelease\n",
            "Hit:5 http://archive.ubuntu.com/ubuntu focal InRelease\n",
            "Get:6 http://archive.ubuntu.com/ubuntu focal-updates InRelease [114 kB]\n",
            "Hit:7 http://ppa.launchpad.net/cran/libgit2/ubuntu focal InRelease\n",
            "Hit:8 http://ppa.launchpad.net/deadsnakes/ppa/ubuntu focal InRelease\n",
            "Get:9 http://archive.ubuntu.com/ubuntu focal-backports InRelease [108 kB]\n",
            "Hit:10 http://ppa.launchpad.net/graphics-drivers/ppa/ubuntu focal InRelease\n",
            "Hit:11 http://ppa.launchpad.net/ubuntugis/ppa/ubuntu focal InRelease\n",
            "Fetched 336 kB in 1s (270 kB/s)\n",
            "Reading package lists... Done\n",
            "Building dependency tree       \n",
            "Reading state information... Done\n",
            "34 packages can be upgraded. Run 'apt list --upgradable' to see them.\n",
            "Reading package lists... Done\n",
            "Building dependency tree       \n",
            "Reading state information... Done\n",
            "libcairo2-dev is already the newest version (1.16.0-4ubuntu1).\n",
            "libpango1.0-dev is already the newest version (1.44.7-2ubuntu4).\n",
            "texlive is already the newest version (2019.20200218-1).\n",
            "texlive-fonts-extra is already the newest version (2019.202000218-1).\n",
            "texlive-latex-extra is already the newest version (2019.202000218-1).\n",
            "texlive-latex-recommended is already the newest version (2019.20200218-1).\n",
            "texlive-science is already the newest version (2019.202000218-1).\n",
            "tipa is already the newest version (2:1.3-20).\n",
            "ffmpeg is already the newest version (7:4.2.7-0ubuntu0.1).\n",
            "0 upgraded, 0 newly installed, 0 to remove and 34 not upgraded.\n",
            "Looking in indexes: https://pypi.org/simple, https://us-python.pkg.dev/colab-wheels/public/simple/\n",
            "Requirement already satisfied: manim in /usr/local/lib/python3.10/dist-packages (0.17.3)\n",
            "Requirement already satisfied: Pillow<10.0,>=9.1 in /usr/local/lib/python3.10/dist-packages (from manim) (9.5.0)\n",
            "Requirement already satisfied: Pygments<3.0.0,>=2.10.0 in /usr/local/lib/python3.10/dist-packages (from manim) (2.14.0)\n",
            "Requirement already satisfied: click<=9.0,>=7.2 in /usr/local/lib/python3.10/dist-packages (from manim) (8.1.3)\n",
            "Requirement already satisfied: click-default-group<2.0.0,>=1.2.2 in /usr/local/lib/python3.10/dist-packages (from manim) (1.2.2)\n",
            "Requirement already satisfied: cloup<0.14.0,>=0.13.0 in /usr/local/lib/python3.10/dist-packages (from manim) (0.13.1)\n",
            "Requirement already satisfied: colour<0.2.0,>=0.1.5 in /usr/local/lib/python3.10/dist-packages (from manim) (0.1.5)\n",
            "Requirement already satisfied: decorator<6.0.0,>=5.0.7 in /usr/local/lib/python3.10/dist-packages (from manim) (5.1.1)\n",
            "Requirement already satisfied: isosurfaces==0.1.0 in /usr/local/lib/python3.10/dist-packages (from manim) (0.1.0)\n",
            "Requirement already satisfied: manimpango<0.5.0,>=0.4.0.post0 in /usr/local/lib/python3.10/dist-packages (from manim) (0.4.3)\n",
            "Requirement already satisfied: mapbox-earcut<2.0.0,>=1.0.0 in /usr/local/lib/python3.10/dist-packages (from manim) (1.0.1)\n",
            "Requirement already satisfied: moderngl<6.0.0,>=5.6.3 in /usr/local/lib/python3.10/dist-packages (from manim) (5.8.2)\n",
            "Requirement already satisfied: moderngl-window<3.0.0,>=2.3.0 in /usr/local/lib/python3.10/dist-packages (from manim) (2.4.4)\n",
            "Requirement already satisfied: networkx<3.0,>=2.5 in /usr/local/lib/python3.10/dist-packages (from manim) (2.8.8)\n",
            "Requirement already satisfied: numpy<2.0,>=1.19 in /usr/local/lib/python3.10/dist-packages (from manim) (1.22.4)\n",
            "Requirement already satisfied: pycairo<2.0,>=1.21 in /usr/local/lib/python3.10/dist-packages (from manim) (1.23.0)\n",
            "Requirement already satisfied: pydub<0.26.0,>=0.25.1 in /usr/local/lib/python3.10/dist-packages (from manim) (0.25.1)\n",
            "Requirement already satisfied: requests<3.0.0,>=2.26.0 in /usr/local/lib/python3.10/dist-packages (from manim) (2.27.1)\n",
            "Requirement already satisfied: rich!=12.0.0,>=6.0 in /usr/local/lib/python3.10/dist-packages (from manim) (13.3.4)\n",
            "Requirement already satisfied: scipy<2.0.0,>=1.7.3 in /usr/local/lib/python3.10/dist-packages (from manim) (1.10.1)\n",
            "Requirement already satisfied: screeninfo<0.9,>=0.8 in /usr/local/lib/python3.10/dist-packages (from manim) (0.8.1)\n",
            "Requirement already satisfied: skia-pathops<0.8.0,>=0.7.0 in /usr/local/lib/python3.10/dist-packages (from manim) (0.7.4)\n",
            "Requirement already satisfied: srt<4.0.0,>=3.5.0 in /usr/local/lib/python3.10/dist-packages (from manim) (3.5.3)\n",
            "Requirement already satisfied: svgelements<2.0.0,>=1.8.0 in /usr/local/lib/python3.10/dist-packages (from manim) (1.9.5)\n",
            "Requirement already satisfied: tqdm<5.0.0,>=4.62.3 in /usr/local/lib/python3.10/dist-packages (from manim) (4.65.0)\n",
            "Requirement already satisfied: watchdog<3.0.0,>=2.1.6 in /usr/local/lib/python3.10/dist-packages (from manim) (2.3.1)\n",
            "Requirement already satisfied: glcontext<3,>=2.3.6 in /usr/local/lib/python3.10/dist-packages (from moderngl<6.0.0,>=5.6.3->manim) (2.3.7)\n",
            "Requirement already satisfied: pyglet>=2.0dev23 in /usr/local/lib/python3.10/dist-packages (from moderngl-window<3.0.0,>=2.3.0->manim) (2.0.7)\n",
            "Requirement already satisfied: pyrr<1,>=0.10.3 in /usr/local/lib/python3.10/dist-packages (from moderngl-window<3.0.0,>=2.3.0->manim) (0.10.3)\n",
            "Requirement already satisfied: urllib3<1.27,>=1.21.1 in /usr/local/lib/python3.10/dist-packages (from requests<3.0.0,>=2.26.0->manim) (1.26.15)\n",
            "Requirement already satisfied: certifi>=2017.4.17 in /usr/local/lib/python3.10/dist-packages (from requests<3.0.0,>=2.26.0->manim) (2022.12.7)\n",
            "Requirement already satisfied: charset-normalizer~=2.0.0 in /usr/local/lib/python3.10/dist-packages (from requests<3.0.0,>=2.26.0->manim) (2.0.12)\n",
            "Requirement already satisfied: idna<4,>=2.5 in /usr/local/lib/python3.10/dist-packages (from requests<3.0.0,>=2.26.0->manim) (3.4)\n",
            "Requirement already satisfied: markdown-it-py<3.0.0,>=2.2.0 in /usr/local/lib/python3.10/dist-packages (from rich!=12.0.0,>=6.0->manim) (2.2.0)\n",
            "Requirement already satisfied: mdurl~=0.1 in /usr/local/lib/python3.10/dist-packages (from markdown-it-py<3.0.0,>=2.2.0->rich!=12.0.0,>=6.0->manim) (0.1.2)\n",
            "Requirement already satisfied: multipledispatch in /usr/local/lib/python3.10/dist-packages (from pyrr<1,>=0.10.3->moderngl-window<3.0.0,>=2.3.0->manim) (0.6.0)\n",
            "Requirement already satisfied: six in /usr/local/lib/python3.10/dist-packages (from multipledispatch->pyrr<1,>=0.10.3->moderngl-window<3.0.0,>=2.3.0->manim) (1.16.0)\n",
            "Looking in indexes: https://pypi.org/simple, https://us-python.pkg.dev/colab-wheels/public/simple/\n",
            "Requirement already satisfied: IPython in /usr/local/lib/python3.10/dist-packages (8.13.2)\n",
            "Requirement already satisfied: backcall in /usr/local/lib/python3.10/dist-packages (from IPython) (0.2.0)\n",
            "Requirement already satisfied: decorator in /usr/local/lib/python3.10/dist-packages (from IPython) (5.1.1)\n",
            "Requirement already satisfied: jedi>=0.16 in /usr/local/lib/python3.10/dist-packages (from IPython) (0.18.2)\n",
            "Requirement already satisfied: matplotlib-inline in /usr/local/lib/python3.10/dist-packages (from IPython) (0.1.6)\n",
            "Requirement already satisfied: pickleshare in /usr/local/lib/python3.10/dist-packages (from IPython) (0.7.5)\n",
            "Requirement already satisfied: prompt-toolkit!=3.0.37,<3.1.0,>=3.0.30 in /usr/local/lib/python3.10/dist-packages (from IPython) (3.0.38)\n",
            "Requirement already satisfied: pygments>=2.4.0 in /usr/local/lib/python3.10/dist-packages (from IPython) (2.14.0)\n",
            "Requirement already satisfied: stack-data in /usr/local/lib/python3.10/dist-packages (from IPython) (0.6.2)\n",
            "Requirement already satisfied: traitlets>=5 in /usr/local/lib/python3.10/dist-packages (from IPython) (5.7.1)\n",
            "Requirement already satisfied: pexpect>4.3 in /usr/local/lib/python3.10/dist-packages (from IPython) (4.8.0)\n",
            "Requirement already satisfied: parso<0.9.0,>=0.8.0 in /usr/local/lib/python3.10/dist-packages (from jedi>=0.16->IPython) (0.8.3)\n",
            "Requirement already satisfied: ptyprocess>=0.5 in /usr/local/lib/python3.10/dist-packages (from pexpect>4.3->IPython) (0.7.0)\n",
            "Requirement already satisfied: wcwidth in /usr/local/lib/python3.10/dist-packages (from prompt-toolkit!=3.0.37,<3.1.0,>=3.0.30->IPython) (0.2.6)\n",
            "Requirement already satisfied: executing>=1.2.0 in /usr/local/lib/python3.10/dist-packages (from stack-data->IPython) (1.2.0)\n",
            "Requirement already satisfied: asttokens>=2.1.0 in /usr/local/lib/python3.10/dist-packages (from stack-data->IPython) (2.2.1)\n",
            "Requirement already satisfied: pure-eval in /usr/local/lib/python3.10/dist-packages (from stack-data->IPython) (0.2.2)\n",
            "Requirement already satisfied: six in /usr/local/lib/python3.10/dist-packages (from asttokens>=2.1.0->stack-data->IPython) (1.16.0)\n",
            "Looking in indexes: https://pypi.org/simple, https://us-python.pkg.dev/colab-wheels/public/simple/\n",
            "Requirement already satisfied: plotly in /usr/local/lib/python3.10/dist-packages (5.13.1)\n",
            "Collecting plotly\n",
            "  Downloading plotly-5.14.1-py2.py3-none-any.whl (15.3 MB)\n",
            "\u001b[2K     \u001b[90m━━━━━━━━━━━━━━━━━━━━━━━━━━━━━━━━━━━━━━━━\u001b[0m \u001b[32m15.3/15.3 MB\u001b[0m \u001b[31m93.1 MB/s\u001b[0m eta \u001b[36m0:00:00\u001b[0m\n",
            "\u001b[?25hRequirement already satisfied: tenacity>=6.2.0 in /usr/local/lib/python3.10/dist-packages (from plotly) (8.2.2)\n",
            "Requirement already satisfied: packaging in /usr/local/lib/python3.10/dist-packages (from plotly) (23.1)\n",
            "Installing collected packages: plotly\n",
            "  Attempting uninstall: plotly\n",
            "    Found existing installation: plotly 5.13.1\n",
            "    Uninstalling plotly-5.13.1:\n",
            "      Successfully uninstalled plotly-5.13.1\n",
            "Successfully installed plotly-5.14.1\n",
            "Looking in indexes: https://pypi.org/simple, https://us-python.pkg.dev/colab-wheels/public/simple/\n",
            "Collecting jupyter-dash\n",
            "  Downloading jupyter_dash-0.4.2-py3-none-any.whl (23 kB)\n",
            "Collecting dash (from jupyter-dash)\n",
            "  Downloading dash-2.10.0-py3-none-any.whl (10.3 MB)\n",
            "\u001b[2K     \u001b[90m━━━━━━━━━━━━━━━━━━━━━━━━━━━━━━━━━━━━━━━━\u001b[0m \u001b[32m10.3/10.3 MB\u001b[0m \u001b[31m76.9 MB/s\u001b[0m eta \u001b[36m0:00:00\u001b[0m\n",
            "\u001b[?25hRequirement already satisfied: requests in /usr/local/lib/python3.10/dist-packages (from jupyter-dash) (2.27.1)\n",
            "Requirement already satisfied: flask in /usr/local/lib/python3.10/dist-packages (from jupyter-dash) (2.2.4)\n",
            "Collecting retrying (from jupyter-dash)\n",
            "  Downloading retrying-1.3.4-py3-none-any.whl (11 kB)\n",
            "Requirement already satisfied: ipython in /usr/local/lib/python3.10/dist-packages (from jupyter-dash) (8.13.2)\n",
            "Requirement already satisfied: ipykernel in /usr/local/lib/python3.10/dist-packages (from jupyter-dash) (5.5.6)\n",
            "Collecting ansi2html (from jupyter-dash)\n",
            "  Downloading ansi2html-1.8.0-py3-none-any.whl (16 kB)\n",
            "Requirement already satisfied: nest-asyncio in /usr/local/lib/python3.10/dist-packages (from jupyter-dash) (1.5.6)\n",
            "Collecting flask (from jupyter-dash)\n",
            "  Downloading Flask-2.2.3-py3-none-any.whl (101 kB)\n",
            "\u001b[2K     \u001b[90m━━━━━━━━━━━━━━━━━━━━━━━━━━━━━━━━━━━━━━\u001b[0m \u001b[32m101.8/101.8 kB\u001b[0m \u001b[31m14.1 MB/s\u001b[0m eta \u001b[36m0:00:00\u001b[0m\n",
            "\u001b[?25hCollecting Werkzeug<=2.2.3 (from dash->jupyter-dash)\n",
            "  Downloading Werkzeug-2.2.3-py3-none-any.whl (233 kB)\n",
            "\u001b[2K     \u001b[90m━━━━━━━━━━━━━━━━━━━━━━━━━━━━━━━━━━━━━━\u001b[0m \u001b[32m233.6/233.6 kB\u001b[0m \u001b[31m27.8 MB/s\u001b[0m eta \u001b[36m0:00:00\u001b[0m\n",
            "\u001b[?25hRequirement already satisfied: plotly>=5.0.0 in /usr/local/lib/python3.10/dist-packages (from dash->jupyter-dash) (5.14.1)\n",
            "Collecting dash-html-components==2.0.0 (from dash->jupyter-dash)\n",
            "  Downloading dash_html_components-2.0.0-py3-none-any.whl (4.1 kB)\n",
            "Collecting dash-core-components==2.0.0 (from dash->jupyter-dash)\n",
            "  Downloading dash_core_components-2.0.0-py3-none-any.whl (3.8 kB)\n",
            "Collecting dash-table==5.0.0 (from dash->jupyter-dash)\n",
            "  Downloading dash_table-5.0.0-py3-none-any.whl (3.9 kB)\n",
            "Requirement already satisfied: Jinja2>=3.0 in /usr/local/lib/python3.10/dist-packages (from flask->jupyter-dash) (3.1.2)\n",
            "Requirement already satisfied: itsdangerous>=2.0 in /usr/local/lib/python3.10/dist-packages (from flask->jupyter-dash) (2.1.2)\n",
            "Requirement already satisfied: click>=8.0 in /usr/local/lib/python3.10/dist-packages (from flask->jupyter-dash) (8.1.3)\n",
            "Requirement already satisfied: ipython-genutils in /usr/local/lib/python3.10/dist-packages (from ipykernel->jupyter-dash) (0.2.0)\n",
            "Requirement already satisfied: traitlets>=4.1.0 in /usr/local/lib/python3.10/dist-packages (from ipykernel->jupyter-dash) (5.7.1)\n",
            "Requirement already satisfied: jupyter-client in /usr/local/lib/python3.10/dist-packages (from ipykernel->jupyter-dash) (6.1.12)\n",
            "Requirement already satisfied: tornado>=4.2 in /usr/local/lib/python3.10/dist-packages (from ipykernel->jupyter-dash) (6.3.1)\n",
            "Requirement already satisfied: backcall in /usr/local/lib/python3.10/dist-packages (from ipython->jupyter-dash) (0.2.0)\n",
            "Requirement already satisfied: decorator in /usr/local/lib/python3.10/dist-packages (from ipython->jupyter-dash) (5.1.1)\n",
            "Requirement already satisfied: jedi>=0.16 in /usr/local/lib/python3.10/dist-packages (from ipython->jupyter-dash) (0.18.2)\n",
            "Requirement already satisfied: matplotlib-inline in /usr/local/lib/python3.10/dist-packages (from ipython->jupyter-dash) (0.1.6)\n",
            "Requirement already satisfied: pickleshare in /usr/local/lib/python3.10/dist-packages (from ipython->jupyter-dash) (0.7.5)\n",
            "Requirement already satisfied: prompt-toolkit!=3.0.37,<3.1.0,>=3.0.30 in /usr/local/lib/python3.10/dist-packages (from ipython->jupyter-dash) (3.0.38)\n",
            "Requirement already satisfied: pygments>=2.4.0 in /usr/local/lib/python3.10/dist-packages (from ipython->jupyter-dash) (2.14.0)\n",
            "Requirement already satisfied: stack-data in /usr/local/lib/python3.10/dist-packages (from ipython->jupyter-dash) (0.6.2)\n",
            "Requirement already satisfied: pexpect>4.3 in /usr/local/lib/python3.10/dist-packages (from ipython->jupyter-dash) (4.8.0)\n",
            "Requirement already satisfied: urllib3<1.27,>=1.21.1 in /usr/local/lib/python3.10/dist-packages (from requests->jupyter-dash) (1.26.15)\n",
            "Requirement already satisfied: certifi>=2017.4.17 in /usr/local/lib/python3.10/dist-packages (from requests->jupyter-dash) (2022.12.7)\n",
            "Requirement already satisfied: charset-normalizer~=2.0.0 in /usr/local/lib/python3.10/dist-packages (from requests->jupyter-dash) (2.0.12)\n",
            "Requirement already satisfied: idna<4,>=2.5 in /usr/local/lib/python3.10/dist-packages (from requests->jupyter-dash) (3.4)\n",
            "Requirement already satisfied: six>=1.7.0 in /usr/local/lib/python3.10/dist-packages (from retrying->jupyter-dash) (1.16.0)\n",
            "Requirement already satisfied: parso<0.9.0,>=0.8.0 in /usr/local/lib/python3.10/dist-packages (from jedi>=0.16->ipython->jupyter-dash) (0.8.3)\n",
            "Requirement already satisfied: MarkupSafe>=2.0 in /usr/local/lib/python3.10/dist-packages (from Jinja2>=3.0->flask->jupyter-dash) (2.1.2)\n",
            "Requirement already satisfied: ptyprocess>=0.5 in /usr/local/lib/python3.10/dist-packages (from pexpect>4.3->ipython->jupyter-dash) (0.7.0)\n",
            "Requirement already satisfied: tenacity>=6.2.0 in /usr/local/lib/python3.10/dist-packages (from plotly>=5.0.0->dash->jupyter-dash) (8.2.2)\n",
            "Requirement already satisfied: packaging in /usr/local/lib/python3.10/dist-packages (from plotly>=5.0.0->dash->jupyter-dash) (23.1)\n",
            "Requirement already satisfied: wcwidth in /usr/local/lib/python3.10/dist-packages (from prompt-toolkit!=3.0.37,<3.1.0,>=3.0.30->ipython->jupyter-dash) (0.2.6)\n",
            "Requirement already satisfied: jupyter-core>=4.6.0 in /usr/local/lib/python3.10/dist-packages (from jupyter-client->ipykernel->jupyter-dash) (5.3.0)\n",
            "Requirement already satisfied: pyzmq>=13 in /usr/local/lib/python3.10/dist-packages (from jupyter-client->ipykernel->jupyter-dash) (23.2.1)\n",
            "Requirement already satisfied: python-dateutil>=2.1 in /usr/local/lib/python3.10/dist-packages (from jupyter-client->ipykernel->jupyter-dash) (2.8.2)\n",
            "Requirement already satisfied: executing>=1.2.0 in /usr/local/lib/python3.10/dist-packages (from stack-data->ipython->jupyter-dash) (1.2.0)\n",
            "Requirement already satisfied: asttokens>=2.1.0 in /usr/local/lib/python3.10/dist-packages (from stack-data->ipython->jupyter-dash) (2.2.1)\n",
            "Requirement already satisfied: pure-eval in /usr/local/lib/python3.10/dist-packages (from stack-data->ipython->jupyter-dash) (0.2.2)\n",
            "Requirement already satisfied: platformdirs>=2.5 in /usr/local/lib/python3.10/dist-packages (from jupyter-core>=4.6.0->jupyter-client->ipykernel->jupyter-dash) (3.3.0)\n",
            "Installing collected packages: dash-table, dash-html-components, dash-core-components, Werkzeug, retrying, ansi2html, flask, dash, jupyter-dash\n",
            "  Attempting uninstall: Werkzeug\n",
            "    Found existing installation: Werkzeug 2.3.0\n",
            "    Uninstalling Werkzeug-2.3.0:\n",
            "      Successfully uninstalled Werkzeug-2.3.0\n",
            "  Attempting uninstall: flask\n",
            "    Found existing installation: Flask 2.2.4\n",
            "    Uninstalling Flask-2.2.4:\n",
            "      Successfully uninstalled Flask-2.2.4\n",
            "Successfully installed Werkzeug-2.2.3 ansi2html-1.8.0 dash-2.10.0 dash-core-components-2.0.0 dash-html-components-2.0.0 dash-table-5.0.0 flask-2.2.3 jupyter-dash-0.4.2 retrying-1.3.4\n"
          ]
        }
      ]
    },
    {
      "cell_type": "markdown",
      "source": [
        "# Opis problemu"
      ],
      "metadata": {
        "id": "JBJCPamQaZlh"
      }
    },
    {
      "cell_type": "markdown",
      "source": [
        "Problem chińskiego listonosza polega na znalezieniu najkrótszej trasy do przejścia dla listonosza. Punktem startowym i kończowym jest poczta, miejsca, do których listonosz ma się udać z przesyłkami to wierzchołki grafu, a każda z ulic to krawędź.\n",
        "Droga listonosza powinna wyglądać następująco:\n",
        "1. listonosz odbiera przesyłki na poczcie\n",
        "2. listonosz zanosi przesyłki do odbiorców, czyli musi dotrzeć do każdego z wierzchołków grafu, co najmniej jeden raz\n",
        "3. listonosz kończy swoją trasę na poczcie.\n",
        "\n",
        "Problem należy do problemów np, tylko wtedy, gdy graf nie zawiera cyklu Eulera.\n",
        "\n",
        "Rozwiązaniem zadania jest znalezienie drogi, której suma wag krawędzi cyklu jest najmniejszą sumą wag krawędzi wszystkich takich cykli w grafie."
      ],
      "metadata": {
        "id": "6XjfkfFgbcga"
      }
    },
    {
      "cell_type": "markdown",
      "source": [
        "# Implementacja"
      ],
      "metadata": {
        "id": "2iH2LuFraqdk"
      }
    },
    {
      "cell_type": "markdown",
      "source": [
        "# Przykład grafu, który można wykorzystać do wykonania zadania"
      ],
      "metadata": {
        "id": "i1Mj_t9EGmWl"
      }
    },
    {
      "cell_type": "markdown",
      "source": [
        "Do wykonania zadania potrzebny będzie graf bez cyklu Eulera, czyli graf nieskierowany. Wierzchołek startowy i końcowy grafu to poczta, wierzchołki to skrzyżowania ulic, a ulice to krawędzie, które posiadają swoje wagi."
      ],
      "metadata": {
        "id": "JcJoUh1GJZxe"
      }
    },
    {
      "cell_type": "markdown",
      "source": [
        "\n",
        "\n",
        "```\n",
        "                   3\n",
        "        (a)-----------------(b)\n",
        "     1 /  |                  |  \\1\n",
        "      /   |                  |   \\\n",
        "     (c)  | 5               6|   (d)\n",
        "      \\   |                  |   /\n",
        "     2 \\  |         4        |  /1\n",
        "        (e)------------------(f)\n",
        "       \n",
        "       a - b - d - f - d - b - f - e - c - a - c - e - a\n",
        "```\n",
        "\n"
      ],
      "metadata": {
        "id": "hR2rVejXG9AE"
      }
    },
    {
      "cell_type": "code",
      "source": [
        "import ast\n",
        "with open(\"graf.txt\", 'r') as f:\n",
        "    punkty, odcinki, dlugosci = map(ast.literal_eval, f.readlines())"
      ],
      "metadata": {
        "id": "rOdpRzhFK2TH"
      },
      "execution_count": 2,
      "outputs": []
    },
    {
      "cell_type": "markdown",
      "source": [
        "#Funkcja celu"
      ],
      "metadata": {
        "id": "7B3B_GDZBKVk"
      }
    },
    {
      "cell_type": "markdown",
      "source": [
        "Na początku została wyznaczona funkcja celu, mająca za zadanie określenie długości drogi, którą musi pokonać listonosz."
      ],
      "metadata": {
        "id": "_cdfBqQQCbhv"
      }
    },
    {
      "cell_type": "code",
      "source": [
        "import numpy as np\n",
        "import manim\n",
        "import ast\n",
        "import copy\n",
        "import math\n",
        "import random"
      ],
      "metadata": {
        "colab": {
          "base_uri": "https://localhost:8080/",
          "height": 51
        },
        "id": "7OrU89MCD40I",
        "outputId": "0a0740fb-6f23-408c-9936-1f89f9ee4169"
      },
      "execution_count": 3,
      "outputs": [
        {
          "output_type": "display_data",
          "data": {
            "text/plain": [
              "Manim Community \u001b[32mv0.\u001b[0m\u001b[32m17.3\u001b[0m\n",
              "\n"
            ],
            "text/html": [
              "<pre style=\"white-space:pre;overflow-x:auto;line-height:normal;font-family:Menlo,'DejaVu Sans Mono',consolas,'Courier New',monospace\">Manim Community <span style=\"color: #008000; text-decoration-color: #008000\">v0.17.3</span>\n",
              "\n",
              "</pre>\n"
            ]
          },
          "metadata": {}
        }
      ]
    },
    {
      "cell_type": "code",
      "source": [
        "def funkcjaCelu(rozwiazanie, punkt, odcinki, dlugosci):\n",
        "    suma = 0\n",
        "    tmp = []\n",
        "    try:\n",
        "        for i in range(0, len(rozwiazanie), 1): # na podstawie kolejności odwiedzanych punktów przydzieliłam pasujące do nich odcinki\n",
        "            odc = punkt[rozwiazanie[i] - 1] + punkt[rozwiazanie[i + 1] - 1]\n",
        "            # print(odc)\n",
        "            tmp.append(odc)      # wszystkie odcinki znajdują się w tablicy tmp\n",
        "    except IndexError:\n",
        "        pass\n",
        "    # print(tmp)\n",
        "    for x in range(0, len(tmp), 1):     # dodajemy długości odcinków na podstawie tablicy tmp\n",
        "        for y in range(0, len(odcinki), 1):\n",
        "            if tmp[x] == odcinki[y]:\n",
        "                suma += dlugosci[y]\n",
        "    return suma\n",
        "  \n",
        "print(funkcjaCelu([1, 3, 5, 6, 4, 2, 1],punkty,odcinki,dlugosci))"
      ],
      "metadata": {
        "colab": {
          "base_uri": "https://localhost:8080/"
        },
        "id": "W3itkfmGCoG_",
        "outputId": "34d4e200-b5f4-40fe-e51e-9306a38cead6"
      },
      "execution_count": 4,
      "outputs": [
        {
          "output_type": "stream",
          "name": "stdout",
          "text": [
            "12\n"
          ]
        }
      ]
    },
    {
      "cell_type": "markdown",
      "source": [
        "# Najlepszy sąsiad"
      ],
      "metadata": {
        "id": "K3zkDlg4Bxy9"
      }
    },
    {
      "cell_type": "markdown",
      "source": [
        "Do zastosowania algorytmu symulowanego wyżarzania będzie konieczne wyznaczenie najlepszego sąsiada. "
      ],
      "metadata": {
        "id": "9E8KfMaXTMNg"
      }
    },
    {
      "cell_type": "code",
      "source": [
        "def losowySasiad(roz, punkty, odcinki):\n",
        "    dl_max_roz = len(roz)   # maks. dł. rozwiązania\n",
        "    # print(\"długść tablicy \", dl_max_roz)\n",
        "    # print(\"rozwiązanie\", roz)\n",
        "    ptk = int(random.randint(0, len(roz) - 1)) #losuje ptk z zakresu rozwiązania\n",
        "    # print(\"wylosowana liczba\", ptk)\n",
        "    # print(\"miejsce tablicy z indeksem wylo. liczby\", roz[ptk])\n",
        "    del roz[ptk + 1:]   # kasuję tablice od wybranego ptk\n",
        "    # print(\"po usunięciu\", roz)\n",
        "    for k in range(len(roz), dl_max_roz, 1):\n",
        "        punkt = punkty[roz[-1] - 1] #sprawdzam ptk z konca skasowanej tablicy\n",
        "        # print(punkt)\n",
        "        kolejne_wierzch = []\n",
        "        # print(punkt)\n",
        "        for i in range(0, len(odcinki), 1):  # wyznaczam dostępne wierzchołki na podst. ptk z końca tablicy\n",
        "            if odcinki[i][:1] == punkt:\n",
        "                kolejne_wierzch.append(odcinki[i][1:])\n",
        "        # print(kolejne_wierzch)\n",
        "        p = int(random.uniform(0, len(kolejne_wierzch))) #losujemy nowy wierzchołek dostępny z listy\n",
        "        for j in range(0, len(punkty), 1):          #dopisuje nowy wierzchołek\n",
        "            if punkty[j] == kolejne_wierzch[p]:\n",
        "                roz.append(j + 1)\n",
        "    # print(\"nowa tablica\", roz)\n",
        "    return roz"
      ],
      "metadata": {
        "id": "fIe2j3eSTMov"
      },
      "execution_count": 5,
      "outputs": []
    },
    {
      "cell_type": "markdown",
      "source": [
        "# Losowy sąsiad"
      ],
      "metadata": {
        "id": "KAkFQx8yTGqZ"
      }
    },
    {
      "cell_type": "markdown",
      "source": [
        "W kolejnym etapie ważnym jest, aby wylosować najlepszego sąsiada, czyli wierzchołek (dom), który ma odwiedzić listonosz. Najlepszy sąsiad jest równy wierzchołkowi, do którego dotarcia listonosz pokonuje najkrótszą drogę. \n",
        "Losowy sąsiad jest elementem wykonania algorytmu wspinaczkowego."
      ],
      "metadata": {
        "id": "uHjZVCEbCtiV"
      }
    },
    {
      "cell_type": "code",
      "source": [
        "def najlepszySasiad(cel, roz):  # cel, roz, punkty, odcinki\n",
        "    najlepszy_wynik = roz\n",
        "    dl_max_roz = len(roz)\n",
        "\n",
        "    # print(roz)\n",
        "    tym = roz\n",
        "    for ptk in range(1, len(roz) - 1):\n",
        "        # print(ptk)\n",
        "        del tym[ptk:]\n",
        "        # print(\"rozwiązanie w pętli \", tym)\n",
        "        for k in range(len(roz), dl_max_roz, 1):\n",
        "            punkt = punkty[roz[-1] - 1]\n",
        "            kolejne_wierzch = []\n",
        "            for i in range(0, len(odcinki), 1):\n",
        "                if odcinki[i][:1] == punkt:\n",
        "                    kolejne_wierzch.append(odcinki[i][1:])\n",
        "            p = int(random.uniform(0, len(kolejne_wierzch)))\n",
        "            for j in range(0, len(punkty), 1):\n",
        "                if punkty[j] == kolejne_wierzch[p]:\n",
        "                    tym.append(j + 1)\n",
        "\n",
        "            if (tym[0] == tym[len(tym) - 1]) and \\\n",
        "                    cel(tym) <= cel(najlepszy_wynik):\n",
        "                najlepszy_wynik = tym\n",
        "                # print(\"naj\", najlepszy_wynik)\n",
        "    return najlepszy_wynik"
      ],
      "metadata": {
        "id": "C41S8VnxDKii"
      },
      "execution_count": 6,
      "outputs": []
    },
    {
      "cell_type": "markdown",
      "source": [
        "# Generowanie losowej kolejności "
      ],
      "metadata": {
        "id": "BlgeRrkaCSNE"
      }
    },
    {
      "cell_type": "markdown",
      "source": [
        "W celu zastosowania algorytmu wspinaczkowego, kolejnym krokiem jest wygenerowania losowej kolejności odiedzania wierzchołów przez listonosza. Wraz ze znalezieniem losowego sąsiada, element generowania losowej kolejności jest potrzebny do wykonania algorytmu wspinaczkowego."
      ],
      "metadata": {
        "id": "QgKjOywZDYxb"
      }
    },
    {
      "cell_type": "code",
      "source": [
        "def generowanieLosowejKolejnoci(wielkosc_rozw, punkty, odcinki):\n",
        "    losowa_kolejnosc = [1]    #tablica zaczyna się domyślnie od punktu startu a=1\n",
        "    for k in range(0, wielkosc_rozw - 1, 1):\n",
        "        punkt = punkty[losowa_kolejnosc[-1] - 1] #zmienna posiada informacje punktu w którym się znajdujemy\n",
        "        kolejne_wierzch = []\n",
        "        #print(punkt)\n",
        "        for i in range(0, len(odcinki), 1):   #petla wyznacza kolejne wierzchołki\n",
        "            if odcinki[i][:1] == punkt:\n",
        "                kolejne_wierzch.append(odcinki[i][1:])\n",
        "        #print(kolejne_wierzch)\n",
        "        p = int(random.uniform(0, len(kolejne_wierzch))) #losujemy liczbę o wielkości tablicy w której znajdują się dostępne wierzchołki\n",
        "        # print(kolejne_wierzch[p])\n",
        "        # print(punkty)\n",
        "        for j in range(0, len(punkty), 1):\n",
        "            if punkty[j] == kolejne_wierzch[p]:  # dodajemy wylosowany wierzchołek do kolejki\n",
        "                losowa_kolejnosc.append(j + 1)\n",
        "        #print(losowa_kolejnosc)\n",
        "    return losowa_kolejnosc"
      ],
      "metadata": {
        "id": "gcZMpWFODnr4"
      },
      "execution_count": 7,
      "outputs": []
    },
    {
      "cell_type": "markdown",
      "source": [
        "# Algorytm wspinaczkowy"
      ],
      "metadata": {
        "id": "uLTfzTyXa5Eg"
      }
    },
    {
      "cell_type": "code",
      "source": [
        "import time\n",
        "import psutil"
      ],
      "metadata": {
        "id": "SMFaAbLVG2M-"
      },
      "execution_count": 8,
      "outputs": []
    },
    {
      "cell_type": "code",
      "source": [
        "def determistycznyWspinaczkowy(cel):\n",
        "    max_dl_roz = len(odcinki)  # maksymalny rozmiar rozwiązania\n",
        "    min_dl_roz = int((len(odcinki) / 2) - 1)  # najmniejszy rozmiar rozwiązania\n",
        "    iteracje = 1000  # ilość literacji\n",
        "    tablica = []  # lista punktów odwiedzanych w proponowanym rozwiązaniu\n",
        "    historia=[[1, 5, 1, 5, 1, 5, 1, 5, 1, 5, 1, 5, 1, 5, 1]]\n",
        "    najlepszy_wynik = [1, 5, 1, 5, 1, 5, 1, 5, 1, 5, 1, 5, 1, 5, 1] #początkowa permutacja\n",
        "    while max_dl_roz >= min_dl_roz:\n",
        "        for j in range(0, iteracje, 1):\n",
        "            roz = generowanieLosowejKolejnoci(max_dl_roz, punkty, odcinki)\n",
        "            nowe_roz = najlepszySasiad(cel, roz)\n",
        "            # print(nowe_roz)\n",
        "            for k in range(1, len(punkty) + 1):\n",
        "                odw_ptk = k in nowe_roz\n",
        "                # print(k, odw_ptk)\n",
        "                if odw_ptk:\n",
        "                    tablica.append(k)\n",
        "            if (len(tablica) >= len(punkty)) and \\\n",
        "                    (nowe_roz[0] == nowe_roz[len(nowe_roz) - 1]) and \\\n",
        "                    cel(nowe_roz) <= cel(najlepszy_wynik):\n",
        "                # print(\"rozwiązanie wynosi :\", cel(nowe_roz))\n",
        "                najlepszy_wynik = nowe_roz\n",
        "                for i in historia:\n",
        "                  if i == najlepszy_wynik:\n",
        "                    break\n",
        "                  if i != najlepszy_wynik:\n",
        "                    historia.append(najlepszy_wynik)\n",
        "                    break\n",
        "                # print(\"nowy rozwiązaniem jest sekwencja :\", najlepszy_wynik)\n",
        "            # print(\"odwiedzone punkty\", tablica)\n",
        "            tablica = []\n",
        "        max_dl_roz -= 1\n",
        "    print(historia)\n",
        "    return najlepszy_wynik\n",
        "czas_start_aw=time.time()\n",
        "czas_koniec_aw=time.time()-czas_start_aw\n",
        "roz = determistycznyWspinaczkowy(lambda s: funkcjaCelu(s, punkty, odcinki, dlugosci))\n",
        "print(roz)\n",
        "print(\"Czas działania: \", czas_koniec_aw)\n",
        "print(\"Zużycie procesora:\", psutil.cpu_percent())\n",
        "print(funkcjaCelu(roz,punkty,odcinki,dlugosci))\n",
        "#print(historia)"
      ],
      "metadata": {
        "colab": {
          "base_uri": "https://localhost:8080/"
        },
        "id": "VkD8I6aTDuu8",
        "outputId": "0660a2aa-1f98-429f-85f6-484bc2c25d6c"
      },
      "execution_count": 18,
      "outputs": [
        {
          "output_type": "stream",
          "name": "stdout",
          "text": [
            "[[1, 5, 1, 5, 1, 5, 1, 5, 1, 5, 1, 5, 1, 5, 1], [1, 5, 1, 3, 5, 1, 2, 1, 2, 4, 6, 5, 6, 4, 2, 1], [1, 3, 5, 3, 5, 3, 1, 3, 1, 2, 6, 4, 2, 1, 5, 1], [1, 3, 1, 5, 6, 5, 3, 1, 2, 4, 2, 1, 3, 5, 3, 1], [1, 3, 1, 2, 6, 4, 6, 4, 2, 1, 3, 5, 3, 1, 2, 1], [1, 2, 4, 2, 6, 4, 6, 4, 6, 4, 6, 5, 3, 5, 3, 1], [1, 3, 1, 2, 4, 2, 4, 2, 4, 2, 4, 6, 4, 6, 5, 1], [1, 3, 1, 3, 1, 2, 4, 6, 4, 6, 5, 6, 4, 2, 1], [1, 3, 1, 2, 4, 2, 4, 2, 4, 6, 5, 1, 3, 1], [1, 3, 5, 1, 2, 4, 6, 4, 2, 4, 2, 1, 3, 1], [1, 2, 4, 2, 4, 6, 4, 6, 5, 3, 1, 3, 1], [1, 2, 4, 6, 4, 6, 5, 3, 1, 3, 1, 3, 1], [1, 5, 6, 4, 6, 4, 2, 1, 3, 1], [1, 3, 1, 2, 4, 6, 5, 1, 3, 1], [1, 3, 5, 1, 2, 4, 6, 4, 2, 1], [1, 2, 1, 2, 4, 6, 5, 3, 1], [1, 3, 5, 6, 4, 2, 1, 3, 1], [1, 2, 4, 6, 5, 3, 1], [1, 3, 5, 6, 4, 2, 1], [1, 3, 5, 6, 4, 2, 1]]\n",
            "[1, 3, 5, 6, 4, 2, 1]\n",
            "Czas działania:  3.218650817871094e-05\n",
            "Zużycie procesora: 14.1\n",
            "12\n"
          ]
        }
      ]
    },
    {
      "cell_type": "markdown",
      "source": [
        "# Symulowane wyżarzanie"
      ],
      "metadata": {
        "id": "XJKZaufcbDo9"
      }
    },
    {
      "cell_type": "markdown",
      "source": [],
      "metadata": {
        "id": "138Qdjd8SxO4"
      }
    },
    {
      "cell_type": "code",
      "source": [
        "def symulowaneWyzarzanie(cel, Temperatura):\n",
        "    max_dl_roz = len(odcinki)  # maksymalny rozmiar rozwiązania\n",
        "    min_dl_roz = int((len(odcinki) / 2) - 1)  # najmniejszy rozmiar rozwiązania\n",
        "    iteracje = 1000  # ilość literacji\n",
        "    tablica = []  # lista punktów odwiedzanych w proponowanym rozwiązaniu\n",
        "    najlepszy_wynik = generowanieLosowejKolejnoci(max_dl_roz, punkty, odcinki)\n",
        "    while max_dl_roz >= min_dl_roz:\n",
        "\n",
        "        V = [najlepszy_wynik]\n",
        "        for j in range(1, iteracje + 1, 1):\n",
        "            roz = generowanieLosowejKolejnoci(max_dl_roz, punkty, odcinki)\n",
        "            nowe_roz = losowySasiad(roz, punkty, odcinki)\n",
        "            # print(nowe_roz)\n",
        "            for k in range(1, len(punkty) + 1):\n",
        "                odw_ptk = k in nowe_roz\n",
        "                #print(k, odw_ptk)\n",
        "                if odw_ptk:\n",
        "                    tablica.append(k)\n",
        "            if (len(tablica) == len(punkty)) and \\\n",
        "                    (nowe_roz[0] == nowe_roz[len(nowe_roz) - 1]) and \\\n",
        "                    cel(nowe_roz) <= cel(najlepszy_wynik):\n",
        "                # print(\"rozwiązanie wynosi :\", cel(nowe_roz))\n",
        "                najlepszy_wynik = nowe_roz\n",
        "                V.append(najlepszy_wynik)\n",
        "                #print(\"nowy rozwiązaniem jest sekwencja :\", najlepszy_wynik)\n",
        "                #print(\"odwiedzone punkty\", tablica)\n",
        "\n",
        "            else:\n",
        "                e = math.exp(- abs(cel(nowe_roz) - cel(najlepszy_wynik)) / Temperatura(j))\n",
        "                u = random.uniform(0.0, 1.0)\n",
        "                if (u < e) and \\\n",
        "                        (len(tablica) == len(punkty)) and \\\n",
        "                        (nowe_roz[0] == nowe_roz[len(nowe_roz) - 1]):\n",
        "                    najlepszy_wynik = nowe_roz\n",
        "                    V.append(najlepszy_wynik)\n",
        "                    # print(\"jest \")\n",
        "            tablica = []\n",
        "            #print(V)\n",
        "        max_dl_roz -= 1\n",
        "    return min(V, key=cel)\n",
        "czas_start_sw=time.time()\n",
        "czas_koniec_sw=time.time()-czas_start_sw\n",
        "roz = symulowaneWyzarzanie(lambda s: funkcjaCelu(s, punkty, odcinki, dlugosci),lambda k: 1000 / k)\n",
        "print(roz)\n",
        "print(\"Czas działania: \", czas_koniec_sw)\n",
        "print(\"Zużycie procesora:\", psutil.cpu_percent())\n",
        "print(funkcjaCelu(roz,punkty,odcinki,dlugosci))"
      ],
      "metadata": {
        "colab": {
          "base_uri": "https://localhost:8080/"
        },
        "id": "d6LgdGYFSxwX",
        "outputId": "4bb49f04-aea6-4b25-a264-efc2f212163d"
      },
      "execution_count": 10,
      "outputs": [
        {
          "output_type": "stream",
          "name": "stdout",
          "text": [
            "[1, 3, 5, 6, 4, 2, 1]\n",
            "Czas działania:  2.09808349609375e-05\n",
            "Zużycie procesora: 97.6\n",
            "12\n"
          ]
        }
      ]
    },
    {
      "cell_type": "markdown",
      "source": [
        "# Porównanie metod"
      ],
      "metadata": {
        "id": "dNbjcxztbOPv"
      }
    },
    {
      "cell_type": "markdown",
      "source": [
        "Porównując działania obu metod ciężko jest wybrać lepszą, ponieważ wyniki działania obu z nich są bardzo porównywalne. Poprzez wykonanie około 20 prób można stwierdzić, że algorytm symulowanego wyżarzania jest minimalnie szybszy, ale zużywa więcej zasobów procesora. Jeśli chodzi o zużycie pamięci RAM wyniki są identyczne."
      ],
      "metadata": {
        "id": "79VpJcwBqXSw"
      }
    },
    {
      "cell_type": "markdown",
      "source": [
        "Algorytm wspinaczkowy- wyniki testowe:"
      ],
      "metadata": {
        "id": "9dsD-nD5q4KA"
      }
    },
    {
      "cell_type": "code",
      "source": [
        "print(roz)\n",
        "print(\"Czas działania: \", czas_koniec_aw)\n",
        "print(\"Zużycie procesora:\", psutil.cpu_percent())\n",
        "print(\"Zużycie RAMu w %: \", psutil.virtual_memory())"
      ],
      "metadata": {
        "colab": {
          "base_uri": "https://localhost:8080/"
        },
        "outputId": "8e8780f4-ec65-41ed-ebbb-202ef3f2f58b",
        "id": "QVwe_Toi36Ey"
      },
      "execution_count": 46,
      "outputs": [
        {
          "output_type": "stream",
          "name": "stdout",
          "text": [
            "[1, 3, 5, 6, 4, 2, 1]\n",
            "Czas działania:  3.218650817871094e-05\n",
            "Zużycie procesora: 2.0\n",
            "Zużycie RAMu w %:  svmem(total=13613326336, available=11926466560, percent=12.4, used=1345789952, free=7073275904, active=1098772480, inactive=4613009408, buffers=551047168, cached=4643213312, shared=7839744, slab=710078464)\n"
          ]
        }
      ]
    },
    {
      "cell_type": "markdown",
      "source": [
        "Algorytm symulowanego wyżarzania- wyniki testowe:"
      ],
      "metadata": {
        "id": "y7e9ewRf4AgM"
      }
    },
    {
      "cell_type": "code",
      "source": [
        "print(roz)\n",
        "print(\"Czas działania: \", czas_koniec_sw)\n",
        "print(\"Zużycie procesora:\", psutil.cpu_percent())\n",
        "print(\"Zużycie RAMu w %: \", psutil.virtual_memory())"
      ],
      "metadata": {
        "colab": {
          "base_uri": "https://localhost:8080/"
        },
        "outputId": "e1d035f4-5009-47a5-8301-321f53228fbb",
        "id": "PTVlzPqc4PDW"
      },
      "execution_count": 42,
      "outputs": [
        {
          "output_type": "stream",
          "name": "stdout",
          "text": [
            "[1, 3, 5, 6, 4, 2, 1]\n",
            "Czas działania:  2.09808349609375e-05\n",
            "Zużycie procesora: 2.7\n",
            "Zużycie RAMu w %:  svmem(total=13613326336, available=11924611072, percent=12.4, used=1347510272, free=7071674368, active=1098756096, inactive=4612665344, buffers=551047168, cached=4643094528, shared=7839744, slab=710021120)\n"
          ]
        }
      ]
    },
    {
      "cell_type": "markdown",
      "source": [
        "# Wizualizacja"
      ],
      "metadata": {
        "id": "oL7m7aTYbQ2R"
      }
    },
    {
      "cell_type": "code",
      "source": [
        "edges = [(0,1),(1,2),(2,3),(3,4),(4,5),(5,6),(6,0)]\n",
        "vertices=[i for i in range(6)]\n",
        "# Tworzenie pustego słownika reprezentującego graf\n",
        "graph = {}\n",
        "\n",
        "# Dodawanie krawędzi do grafu\n",
        "for edge in edges:\n",
        "  vertex1=edge[0]\n",
        "  vertex2=edge[1]\n",
        "\n",
        "  if vertex1 in graph:\n",
        "    graph[vertex1].append(vertex2)\n",
        "  else:\n",
        "    graph[vertex1]=[vertex2]\n",
        "  if vertex2 in graph:\n",
        "    graph[vertex2].append(vertex1)\n",
        "  else:\n",
        "    graph[vertex2]=[vertex1]\n",
        "for vertex, neighbors in graph.items():\n",
        "  print(f\"Wierzchołek {vertex}: {neighbors}\")\n",
        "\n",
        "  "
      ],
      "metadata": {
        "colab": {
          "base_uri": "https://localhost:8080/"
        },
        "id": "fRCxW6biru4B",
        "outputId": "226a7a12-fb29-44b3-f1b0-b2b83c7e083e"
      },
      "execution_count": 13,
      "outputs": [
        {
          "output_type": "stream",
          "name": "stdout",
          "text": [
            "Wierzchołek 0: [1, 6]\n",
            "Wierzchołek 1: [0, 2]\n",
            "Wierzchołek 2: [1, 3]\n",
            "Wierzchołek 3: [2, 4]\n",
            "Wierzchołek 4: [3, 5]\n",
            "Wierzchołek 5: [4, 6]\n",
            "Wierzchołek 6: [5, 0]\n"
          ]
        }
      ]
    },
    {
      "cell_type": "markdown",
      "source": [
        "Tworzenie grafu polega na stworzeniu słownika \"graph\", który rysuje graf na podstawie podanych krawędzi, następnie wypisuje listę sąsiadów dla każdego wierzchołka."
      ],
      "metadata": {
        "id": "vgn4U3-zJgbD"
      }
    },
    {
      "cell_type": "code",
      "source": [
        "from manim import *"
      ],
      "metadata": {
        "id": "8blhf-kc9dqt"
      },
      "execution_count": 25,
      "outputs": []
    },
    {
      "cell_type": "code",
      "source": [
        "edges"
      ],
      "metadata": {
        "colab": {
          "base_uri": "https://localhost:8080/"
        },
        "id": "E8OCquPJK7TE",
        "outputId": "9d1ddcc6-cd71-43df-ca00-15f85820b09c"
      },
      "execution_count": 15,
      "outputs": [
        {
          "output_type": "execute_result",
          "data": {
            "text/plain": [
              "[(0, 1), (1, 2), (2, 3), (3, 4), (4, 5), (5, 6), (6, 0)]"
            ]
          },
          "metadata": {},
          "execution_count": 15
        }
      ]
    },
    {
      "cell_type": "code",
      "source": [
        "import copy\n",
        "import networkx as nx\n",
        "import matplotlib.pyplot as plt"
      ],
      "metadata": {
        "id": "KTSJ6Flf9iXX"
      },
      "execution_count": 57,
      "outputs": []
    },
    {
      "cell_type": "code",
      "source": [
        "# Definiowanie krawędzi\n",
        "edges = [(0,1),(1,2),(2,3),(3,4),(4,5),(5,0)]\n",
        "\n",
        "# Tworzenie pustego grafu skierowanego\n",
        "G = nx.DiGraph()\n",
        "\n",
        "# Dodawanie krawędzi do grafu\n",
        "G.add_edges_from(edges)\n",
        "\n",
        "# Rysowanie grafu i zapisywanie sekwencji obrazów\n",
        "fig = plt.figure(figsize=(6, 4), dpi=100)\n",
        "pos = nx.spring_layout(G)\n",
        "frames = []\n",
        "for i in range(10):\n",
        "    nx.draw_networkx(G, pos, node_color='lightblue', node_size=500)\n",
        "    plt.axis('off')\n",
        "    frames.append(fig)\n",
        "    plt.clf()\n",
        "\n",
        "# Zapisywanie sekwencji obrazów jako animację w formacie PNG\n",
        "for i, frame in enumerate(frames):\n",
        "    frame.savefig(f\"frame_{i}.png\")\n"
      ],
      "metadata": {
        "colab": {
          "base_uri": "https://localhost:8080/",
          "height": 35
        },
        "id": "2rT42LtCiF2s",
        "outputId": "98f43df0-e3d6-4687-fb85-1af34e51188e"
      },
      "execution_count": 58,
      "outputs": [
        {
          "output_type": "display_data",
          "data": {
            "text/plain": [
              "<Figure size 600x400 with 0 Axes>"
            ]
          },
          "metadata": {}
        }
      ]
    }
  ]
}