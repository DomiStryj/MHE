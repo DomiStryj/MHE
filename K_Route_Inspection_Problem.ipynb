{
  "nbformat": 4,
  "nbformat_minor": 0,
  "metadata": {
    "colab": {
      "provenance": [],
      "include_colab_link": true
    },
    "kernelspec": {
      "name": "python3",
      "display_name": "Python 3"
    },
    "language_info": {
      "name": "python"
    }
  },
  "cells": [
    {
      "cell_type": "markdown",
      "metadata": {
        "id": "view-in-github",
        "colab_type": "text"
      },
      "source": [
        "<a href=\"https://colab.research.google.com/github/DomiStryj/MHE/blob/master/K_Route_Inspection_Problem.ipynb\" target=\"_parent\"><img src=\"https://colab.research.google.com/assets/colab-badge.svg\" alt=\"Open In Colab\"/></a>"
      ]
    },
    {
      "cell_type": "markdown",
      "source": [
        "# Problem chińskiego listonosza/Route Inspection Problem"
      ],
      "metadata": {
        "id": "f6WJ-hbWaWMi"
      }
    },
    {
      "cell_type": "code",
      "source": [
        "!sudo apt update\n",
        "!sudo apt install libcairo2-dev ffmpeg texlive texlive-latex-extra texlive-fonts-extra texlive-latex-recommended texlive-science tipa libpango1.0-dev\n",
        "!pip install manim\n",
        "!pip install IPython --upgrade"
      ],
      "metadata": {
        "id": "qM2dgUYtt8x7",
        "colab": {
          "base_uri": "https://localhost:8080/"
        },
        "outputId": "23fd1535-bb0a-4939-ddf6-41f04d27352f"
      },
      "execution_count": 15,
      "outputs": [
        {
          "output_type": "stream",
          "name": "stdout",
          "text": [
            "\u001b[33m\r0% [Working]\u001b[0m\r            \rHit:1 https://cloud.r-project.org/bin/linux/ubuntu focal-cran40/ InRelease\n",
            "\u001b[33m\r0% [Connecting to archive.ubuntu.com (91.189.91.39)] [Waiting for headers] [Wai\u001b[0m\r                                                                               \rHit:2 https://developer.download.nvidia.com/compute/cuda/repos/ubuntu2004/x86_64  InRelease\n",
            "\u001b[33m\r                                                                               \r0% [Waiting for headers] [Waiting for headers] [Waiting for headers]\u001b[0m\r                                                                    \rHit:3 http://archive.ubuntu.com/ubuntu focal InRelease\n",
            "\u001b[33m\r0% [Waiting for headers] [Waiting for headers] [Waiting for headers]\u001b[0m\r                                                                    \rHit:4 http://security.ubuntu.com/ubuntu focal-security InRelease\n",
            "\u001b[33m\r                                                                    \r0% [Waiting for headers] [Waiting for headers]\u001b[0m\r                                              \rHit:5 http://archive.ubuntu.com/ubuntu focal-updates InRelease\n",
            "\u001b[33m\r0% [Waiting for headers] [Waiting for headers]\u001b[0m\r                                              \rHit:6 http://ppa.launchpad.net/c2d4u.team/c2d4u4.0+/ubuntu focal InRelease\n",
            "Hit:7 http://archive.ubuntu.com/ubuntu focal-backports InRelease\n",
            "Hit:8 http://ppa.launchpad.net/cran/libgit2/ubuntu focal InRelease\n",
            "Hit:9 http://ppa.launchpad.net/deadsnakes/ppa/ubuntu focal InRelease\n",
            "Hit:10 http://ppa.launchpad.net/graphics-drivers/ppa/ubuntu focal InRelease\n",
            "Hit:11 http://ppa.launchpad.net/ubuntugis/ppa/ubuntu focal InRelease\n",
            "Reading package lists... Done\n",
            "Building dependency tree       \n",
            "Reading state information... Done\n",
            "38 packages can be upgraded. Run 'apt list --upgradable' to see them.\n",
            "Reading package lists... Done\n",
            "Building dependency tree       \n",
            "Reading state information... Done\n",
            "libcairo2-dev is already the newest version (1.16.0-4ubuntu1).\n",
            "libpango1.0-dev is already the newest version (1.44.7-2ubuntu4).\n",
            "texlive is already the newest version (2019.20200218-1).\n",
            "texlive-fonts-extra is already the newest version (2019.202000218-1).\n",
            "texlive-latex-extra is already the newest version (2019.202000218-1).\n",
            "texlive-latex-recommended is already the newest version (2019.20200218-1).\n",
            "texlive-science is already the newest version (2019.202000218-1).\n",
            "tipa is already the newest version (2:1.3-20).\n",
            "ffmpeg is already the newest version (7:4.2.7-0ubuntu0.1).\n",
            "0 upgraded, 0 newly installed, 0 to remove and 38 not upgraded.\n",
            "Looking in indexes: https://pypi.org/simple, https://us-python.pkg.dev/colab-wheels/public/simple/\n",
            "Requirement already satisfied: manim in /usr/local/lib/python3.10/dist-packages (0.17.3)\n",
            "Requirement already satisfied: Pillow<10.0,>=9.1 in /usr/local/lib/python3.10/dist-packages (from manim) (9.5.0)\n",
            "Requirement already satisfied: Pygments<3.0.0,>=2.10.0 in /usr/local/lib/python3.10/dist-packages (from manim) (2.14.0)\n",
            "Requirement already satisfied: click<=9.0,>=7.2 in /usr/local/lib/python3.10/dist-packages (from manim) (8.1.3)\n",
            "Requirement already satisfied: click-default-group<2.0.0,>=1.2.2 in /usr/local/lib/python3.10/dist-packages (from manim) (1.2.2)\n",
            "Requirement already satisfied: cloup<0.14.0,>=0.13.0 in /usr/local/lib/python3.10/dist-packages (from manim) (0.13.1)\n",
            "Requirement already satisfied: colour<0.2.0,>=0.1.5 in /usr/local/lib/python3.10/dist-packages (from manim) (0.1.5)\n",
            "Requirement already satisfied: decorator<6.0.0,>=5.0.7 in /usr/local/lib/python3.10/dist-packages (from manim) (5.1.1)\n",
            "Requirement already satisfied: isosurfaces==0.1.0 in /usr/local/lib/python3.10/dist-packages (from manim) (0.1.0)\n",
            "Requirement already satisfied: manimpango<0.5.0,>=0.4.0.post0 in /usr/local/lib/python3.10/dist-packages (from manim) (0.4.3)\n",
            "Requirement already satisfied: mapbox-earcut<2.0.0,>=1.0.0 in /usr/local/lib/python3.10/dist-packages (from manim) (1.0.1)\n",
            "Requirement already satisfied: moderngl<6.0.0,>=5.6.3 in /usr/local/lib/python3.10/dist-packages (from manim) (5.8.2)\n",
            "Requirement already satisfied: moderngl-window<3.0.0,>=2.3.0 in /usr/local/lib/python3.10/dist-packages (from manim) (2.4.4)\n",
            "Requirement already satisfied: networkx<3.0,>=2.5 in /usr/local/lib/python3.10/dist-packages (from manim) (2.8.8)\n",
            "Requirement already satisfied: numpy<2.0,>=1.19 in /usr/local/lib/python3.10/dist-packages (from manim) (1.22.4)\n",
            "Requirement already satisfied: pycairo<2.0,>=1.21 in /usr/local/lib/python3.10/dist-packages (from manim) (1.23.0)\n",
            "Requirement already satisfied: pydub<0.26.0,>=0.25.1 in /usr/local/lib/python3.10/dist-packages (from manim) (0.25.1)\n",
            "Requirement already satisfied: requests<3.0.0,>=2.26.0 in /usr/local/lib/python3.10/dist-packages (from manim) (2.27.1)\n",
            "Requirement already satisfied: rich!=12.0.0,>=6.0 in /usr/local/lib/python3.10/dist-packages (from manim) (13.3.4)\n",
            "Requirement already satisfied: scipy<2.0.0,>=1.7.3 in /usr/local/lib/python3.10/dist-packages (from manim) (1.10.1)\n",
            "Requirement already satisfied: screeninfo<0.9,>=0.8 in /usr/local/lib/python3.10/dist-packages (from manim) (0.8.1)\n",
            "Requirement already satisfied: skia-pathops<0.8.0,>=0.7.0 in /usr/local/lib/python3.10/dist-packages (from manim) (0.7.4)\n",
            "Requirement already satisfied: srt<4.0.0,>=3.5.0 in /usr/local/lib/python3.10/dist-packages (from manim) (3.5.3)\n",
            "Requirement already satisfied: svgelements<2.0.0,>=1.8.0 in /usr/local/lib/python3.10/dist-packages (from manim) (1.9.5)\n",
            "Requirement already satisfied: tqdm<5.0.0,>=4.62.3 in /usr/local/lib/python3.10/dist-packages (from manim) (4.65.0)\n",
            "Requirement already satisfied: watchdog<3.0.0,>=2.1.6 in /usr/local/lib/python3.10/dist-packages (from manim) (2.3.1)\n",
            "Requirement already satisfied: glcontext<3,>=2.3.6 in /usr/local/lib/python3.10/dist-packages (from moderngl<6.0.0,>=5.6.3->manim) (2.3.7)\n",
            "Requirement already satisfied: pyglet>=2.0dev23 in /usr/local/lib/python3.10/dist-packages (from moderngl-window<3.0.0,>=2.3.0->manim) (2.0.7)\n",
            "Requirement already satisfied: pyrr<1,>=0.10.3 in /usr/local/lib/python3.10/dist-packages (from moderngl-window<3.0.0,>=2.3.0->manim) (0.10.3)\n",
            "Requirement already satisfied: urllib3<1.27,>=1.21.1 in /usr/local/lib/python3.10/dist-packages (from requests<3.0.0,>=2.26.0->manim) (1.26.15)\n",
            "Requirement already satisfied: certifi>=2017.4.17 in /usr/local/lib/python3.10/dist-packages (from requests<3.0.0,>=2.26.0->manim) (2022.12.7)\n",
            "Requirement already satisfied: charset-normalizer~=2.0.0 in /usr/local/lib/python3.10/dist-packages (from requests<3.0.0,>=2.26.0->manim) (2.0.12)\n",
            "Requirement already satisfied: idna<4,>=2.5 in /usr/local/lib/python3.10/dist-packages (from requests<3.0.0,>=2.26.0->manim) (3.4)\n",
            "Requirement already satisfied: markdown-it-py<3.0.0,>=2.2.0 in /usr/local/lib/python3.10/dist-packages (from rich!=12.0.0,>=6.0->manim) (2.2.0)\n",
            "Requirement already satisfied: mdurl~=0.1 in /usr/local/lib/python3.10/dist-packages (from markdown-it-py<3.0.0,>=2.2.0->rich!=12.0.0,>=6.0->manim) (0.1.2)\n",
            "Requirement already satisfied: multipledispatch in /usr/local/lib/python3.10/dist-packages (from pyrr<1,>=0.10.3->moderngl-window<3.0.0,>=2.3.0->manim) (0.6.0)\n",
            "Requirement already satisfied: six in /usr/local/lib/python3.10/dist-packages (from multipledispatch->pyrr<1,>=0.10.3->moderngl-window<3.0.0,>=2.3.0->manim) (1.16.0)\n",
            "Looking in indexes: https://pypi.org/simple, https://us-python.pkg.dev/colab-wheels/public/simple/\n",
            "Requirement already satisfied: IPython in /usr/local/lib/python3.10/dist-packages (8.14.0)\n",
            "Requirement already satisfied: backcall in /usr/local/lib/python3.10/dist-packages (from IPython) (0.2.0)\n",
            "Requirement already satisfied: decorator in /usr/local/lib/python3.10/dist-packages (from IPython) (5.1.1)\n",
            "Requirement already satisfied: jedi>=0.16 in /usr/local/lib/python3.10/dist-packages (from IPython) (0.18.2)\n",
            "Requirement already satisfied: matplotlib-inline in /usr/local/lib/python3.10/dist-packages (from IPython) (0.1.6)\n",
            "Requirement already satisfied: pickleshare in /usr/local/lib/python3.10/dist-packages (from IPython) (0.7.5)\n",
            "Requirement already satisfied: prompt-toolkit!=3.0.37,<3.1.0,>=3.0.30 in /usr/local/lib/python3.10/dist-packages (from IPython) (3.0.38)\n",
            "Requirement already satisfied: pygments>=2.4.0 in /usr/local/lib/python3.10/dist-packages (from IPython) (2.14.0)\n",
            "Requirement already satisfied: stack-data in /usr/local/lib/python3.10/dist-packages (from IPython) (0.6.2)\n",
            "Requirement already satisfied: traitlets>=5 in /usr/local/lib/python3.10/dist-packages (from IPython) (5.7.1)\n",
            "Requirement already satisfied: pexpect>4.3 in /usr/local/lib/python3.10/dist-packages (from IPython) (4.8.0)\n",
            "Requirement already satisfied: parso<0.9.0,>=0.8.0 in /usr/local/lib/python3.10/dist-packages (from jedi>=0.16->IPython) (0.8.3)\n",
            "Requirement already satisfied: ptyprocess>=0.5 in /usr/local/lib/python3.10/dist-packages (from pexpect>4.3->IPython) (0.7.0)\n",
            "Requirement already satisfied: wcwidth in /usr/local/lib/python3.10/dist-packages (from prompt-toolkit!=3.0.37,<3.1.0,>=3.0.30->IPython) (0.2.6)\n",
            "Requirement already satisfied: executing>=1.2.0 in /usr/local/lib/python3.10/dist-packages (from stack-data->IPython) (1.2.0)\n",
            "Requirement already satisfied: asttokens>=2.1.0 in /usr/local/lib/python3.10/dist-packages (from stack-data->IPython) (2.2.1)\n",
            "Requirement already satisfied: pure-eval in /usr/local/lib/python3.10/dist-packages (from stack-data->IPython) (0.2.2)\n",
            "Requirement already satisfied: six in /usr/local/lib/python3.10/dist-packages (from asttokens>=2.1.0->stack-data->IPython) (1.16.0)\n"
          ]
        }
      ]
    },
    {
      "cell_type": "markdown",
      "source": [
        "# Opis problemu"
      ],
      "metadata": {
        "id": "JBJCPamQaZlh"
      }
    },
    {
      "cell_type": "markdown",
      "source": [
        "Problem chińskiego listonosza polega na znalezieniu najkrótszej trasy do przejścia dla listonosza. Punktem startowym i kończowym jest poczta, miejsca, do których listonosz ma się udać z przesyłkami to wierzchołki grafu, a każda z ulic to krawędź.\n",
        "Droga listonosza powinna wyglądać następująco:\n",
        "1. listonosz odbiera przesyłki na poczcie\n",
        "2. listonosz zanosi przesyłki do odbiorców, czyli musi dotrzeć do każdego z wierzchołków grafu, co najmniej jeden raz\n",
        "3. listonosz kończy swoją trasę na poczcie.\n",
        "\n",
        "Problem należy do problemów np, tylko wtedy, gdy graf nie zawiera cyklu Eulera.\n",
        "\n",
        "Rozwiązaniem zadania jest znalezienie drogi, której suma wag krawędzi cyklu jest najmniejszą sumą wag krawędzi wszystkich takich cykli w grafie."
      ],
      "metadata": {
        "id": "6XjfkfFgbcga"
      }
    },
    {
      "cell_type": "markdown",
      "source": [
        "# Implementacja"
      ],
      "metadata": {
        "id": "2iH2LuFraqdk"
      }
    },
    {
      "cell_type": "markdown",
      "source": [
        "# Przykład grafu, który można wykorzystać do wykonania zadania"
      ],
      "metadata": {
        "id": "i1Mj_t9EGmWl"
      }
    },
    {
      "cell_type": "markdown",
      "source": [
        "Do wykonania zadania potrzebny będzie graf bez cyklu Eulera, czyli graf nieskierowany. Wierzchołek startowy i końcowy grafu to poczta, wierzchołki to skrzyżowania ulic, a ulice to krawędzie, które posiadają swoje wagi."
      ],
      "metadata": {
        "id": "JcJoUh1GJZxe"
      }
    },
    {
      "cell_type": "markdown",
      "source": [
        "\n",
        "\n",
        "```\n",
        "                   3\n",
        "        (a)-----------------(b)\n",
        "     1 /  |                  |  \\1\n",
        "      /   |                  |   \\\n",
        "     (c)  | 5               6|   (d)\n",
        "      \\   |                  |   /\n",
        "     2 \\  |         4        |  /1\n",
        "        (e)------------------(f)\n",
        "       \n",
        "       a - b - d - f - d - b - f - e - c - a - c - e - a\n",
        "```\n",
        "\n"
      ],
      "metadata": {
        "id": "hR2rVejXG9AE"
      }
    },
    {
      "cell_type": "code",
      "source": [
        "import ast\n",
        "with open(\"graf.txt\", 'r') as f:\n",
        "    punkty, odcinki, dlugosci = map(ast.literal_eval, f.readlines())"
      ],
      "metadata": {
        "id": "rOdpRzhFK2TH"
      },
      "execution_count": 2,
      "outputs": []
    },
    {
      "cell_type": "markdown",
      "source": [
        "załadowany plik zawiera : \n",
        "\n",
        "\n",
        "*   pierwszy wiersz: odwiedzane punkty np . a,b,c\n",
        "*   drugi wiersz: odcinki na podstawie punktów np. ac, ae\n",
        "*   trzeci wiersz : wartość poszególnych odcinków \n",
        "\n"
      ],
      "metadata": {
        "id": "8bg1rRbxuVmG"
      }
    },
    {
      "cell_type": "markdown",
      "source": [
        "#Funkcja celu"
      ],
      "metadata": {
        "id": "7B3B_GDZBKVk"
      }
    },
    {
      "cell_type": "code",
      "source": [
        "import numpy as np\n",
        "import ast\n",
        "import copy\n",
        "import math\n",
        "import random"
      ],
      "metadata": {
        "id": "7OrU89MCD40I"
      },
      "execution_count": 3,
      "outputs": []
    },
    {
      "cell_type": "code",
      "source": [
        "def funkcjaCelu(rozwiazanie, punkt, odcinki, dlugosci):\n",
        "    suma = 0\n",
        "    tmp = []\n",
        "    try:\n",
        "        for i in range(0, len(rozwiazanie), 1): # na podstawie kolejności odwiedzanych punktów przydzieliłam pasujące do nich odcinki\n",
        "            odc = punkt[rozwiazanie[i] - 1] + punkt[rozwiazanie[i + 1] - 1]\n",
        "            # print(odc)\n",
        "            tmp.append(odc)      # wszystkie odcinki znajdują się w tablicy tmp\n",
        "    except IndexError:\n",
        "        pass\n",
        "    # print(tmp)\n",
        "    for x in range(0, len(tmp), 1):     # dodajemy długości odcinków na podstawie tablicy tmp\n",
        "        for y in range(0, len(odcinki), 1):\n",
        "            if tmp[x] == odcinki[y]:\n",
        "                suma += dlugosci[y]\n",
        "    return suma\n",
        "  \n",
        "print(\"Trasa jaką przybył nasz listanosz wynosi :\",funkcjaCelu([1, 3, 5, 6, 4, 2, 1],punkty,odcinki,dlugosci))"
      ],
      "metadata": {
        "id": "W3itkfmGCoG_",
        "colab": {
          "base_uri": "https://localhost:8080/"
        },
        "outputId": "839ccb40-1023-418b-b531-2311c9c4bbad"
      },
      "execution_count": 4,
      "outputs": [
        {
          "output_type": "stream",
          "name": "stdout",
          "text": [
            "Trasa jaką przybył nasz listanosz wynosi : 12\n"
          ]
        }
      ]
    },
    {
      "cell_type": "markdown",
      "source": [
        "Powyższy kod to funkcja celu ,  która przyjmuje tablice z listą odwiedzanych punktów oraz dane  z załadowanego pliku czyli punkty ,  odcinki, oraz ich długości. W efekcie końcowym funkcja celu zwraca łączną wartość jaką przebył nasz listanosz na wyznaczonej trasie. "
      ],
      "metadata": {
        "id": "W4QWfWci3BFz"
      }
    },
    {
      "cell_type": "markdown",
      "source": [
        "# Losowy sąsiad"
      ],
      "metadata": {
        "id": "K3zkDlg4Bxy9"
      }
    },
    {
      "cell_type": "markdown",
      "source": [
        "W kolejnym etapie ważnym jest, aby wylosować najlepszego sąsiada, czyli wierzchołek (dom), który ma odwiedzić listonosz. Najlepszy sąsiad jest równy wierzchołkowi, do którego dotarcia listonosz pokonuje najkrótszą drogę. \n"
      ],
      "metadata": {
        "id": "uHjZVCEbCtiV"
      }
    },
    {
      "cell_type": "code",
      "source": [
        "def losowySasiad(roz, punkty, odcinki):\n",
        "    dl_max_roz = len(roz)   # maks. dł. rozwiązania\n",
        "    ptk = int(random.randint(0, len(roz) - 1)) #losuje ptk z zakresu rozwiązania\n",
        "    del roz[ptk + 1:]   # kasuję tablice od wybranego ptk\n",
        "    for k in range(len(roz), dl_max_roz, 1):\n",
        "        punkt = punkty[roz[-1] - 1] #sprawdzam ptk z konca skasowanej tablicy\n",
        "        kolejne_wierzch = []\n",
        "        for i in range(0, len(odcinki), 1):  # wyznaczam dostępne wierzchołki na podst. ptk z końca tablicy\n",
        "            if odcinki[i][:1] == punkt:\n",
        "                kolejne_wierzch.append(odcinki[i][1:])\n",
        "        p = int(random.uniform(0, len(kolejne_wierzch))) #losujemy nowy wierzchołek dostępny z listy\n",
        "        for j in range(0, len(punkty), 1):          #dopisuje nowy wierzchołek\n",
        "            if punkty[j] == kolejne_wierzch[p]:\n",
        "                roz.append(j + 1)\n",
        "    return roz\n",
        "\n"
      ],
      "metadata": {
        "id": "C41S8VnxDKii"
      },
      "execution_count": 5,
      "outputs": []
    },
    {
      "cell_type": "markdown",
      "source": [
        "# Generowanie losowej kolejności "
      ],
      "metadata": {
        "id": "BlgeRrkaCSNE"
      }
    },
    {
      "cell_type": "markdown",
      "source": [
        "W celu zastosowania algorytmu , kolejnym krokiem jest wygenerowania losowej kolejności odwiedzania wierzchołów przez listonosza. Wraz ze znalezieniem losowego sąsiada, element generowania losowej kolejności jest potrzebny do wykonania algorytmu wspinaczkowego."
      ],
      "metadata": {
        "id": "QgKjOywZDYxb"
      }
    },
    {
      "cell_type": "code",
      "source": [
        "def generowanieLosowejKolejnoci(wielkosc_rozw, punkty, odcinki):\n",
        "    losowa_kolejnosc = [1]    #tablica zaczyna się domyślnie od punktu startu a=1 - poczta\n",
        "    for k in range(0, wielkosc_rozw - 1, 1):\n",
        "        punkt = punkty[losowa_kolejnosc[-1] - 1] #zmienna posiada informacje punktu w którym się znajdujemy\n",
        "        kolejne_wierzch = []\n",
        "        for i in range(0, len(odcinki), 1):   #petla wyznacza kolejne wierzchołki\n",
        "            if odcinki[i][:1] == punkt:\n",
        "                kolejne_wierzch.append(odcinki[i][1:])\n",
        "        p = int(random.uniform(0, len(kolejne_wierzch))) #losujemy liczbę o wielkości tablicy w której znajdują się dostępne wierzchołki\n",
        "        for j in range(0, len(punkty), 1):\n",
        "            if punkty[j] == kolejne_wierzch[p]:  # dodajemy wylosowany wierzchołek do kolejki\n",
        "                losowa_kolejnosc.append(j + 1)\n",
        "    return losowa_kolejnosc"
      ],
      "metadata": {
        "id": "gcZMpWFODnr4"
      },
      "execution_count": 6,
      "outputs": []
    },
    {
      "cell_type": "markdown",
      "source": [
        "# Algorytm wspinaczkowy"
      ],
      "metadata": {
        "id": "uLTfzTyXa5Eg"
      }
    },
    {
      "cell_type": "code",
      "source": [
        "import time\n",
        "import psutil"
      ],
      "metadata": {
        "id": "SMFaAbLVG2M-"
      },
      "execution_count": 7,
      "outputs": []
    },
    {
      "cell_type": "code",
      "source": [
        "historia_wspinaczkowy_sekwencje=[[1, 5, 1, 5, 1, 5, 1, 5, 1, 5, 1, 5, 1, 5, 1]]\n",
        "historia_wspinaczkowy_czas =[0]\n",
        "historia_wspinaczkowy_długość = [60]\n",
        "historia_wspinaczkowy_procesor =[0]\n",
        "historia_wspinaczkowy_czas_procesor =[0]\n",
        "\n",
        "\n",
        "def wspinaczkowy(cel):\n",
        "    max_dl_roz = len(odcinki)  # maksymalny rozmiar rozwiązania\n",
        "    min_dl_roz = int((len(odcinki) / 2) - 1)  # najmniejszy rozmiar rozwiązania\n",
        "    iteracje = 2000  # ilość literacji\n",
        "    tablica = []  # lista punktów odwiedzanych w proponowanym rozwiązaniu\n",
        "\n",
        "    najlepszy_wynik = [1, 5, 1, 5, 1, 5, 1, 5, 1, 5, 1, 5, 1, 5, 1] #początkowa permutacja\n",
        "    while max_dl_roz >= min_dl_roz:\n",
        "        for j in range(0, iteracje, 1):\n",
        "            roz = generowanieLosowejKolejnoci(max_dl_roz, punkty, odcinki)    \n",
        "            nowe_roz = losowySasiad(roz, punkty, odcinki)\n",
        "\n",
        "            for k in range(1, len(punkty) + 1):\n",
        "                odw_ptk = k in nowe_roz\n",
        "                if odw_ptk:\n",
        "                    tablica.append(k)\n",
        "            if (len(tablica) >= len(punkty)) and \\\n",
        "                    (nowe_roz[0] == nowe_roz[len(nowe_roz) - 1]) and \\\n",
        "                    cel(nowe_roz) <= cel(najlepszy_wynik):    #jeżeli spełni warunki zapisuje jako najlepsze rozwiązanie     \n",
        "                najlepszy_wynik = nowe_roz         \n",
        "                historia_wspinaczkowy_procesor.append(psutil.cpu_percent())# zapisujemy dane dla celów wizulizacji oraz porównania\n",
        "                historia_wspinaczkowy_czas_procesor.append(time.time() - czas_start_aw)   \n",
        "                znacznik = False\n",
        "                for i in historia_wspinaczkowy_sekwencje:\n",
        "                  if i == najlepszy_wynik:\n",
        "                    znacznik = True\n",
        "                if znacznik == False:\n",
        "                  historia_wspinaczkowy_sekwencje.append(najlepszy_wynik)# zapisujemy dane dla celów wizulizacji oraz porównania\n",
        "                  historia_wspinaczkowy_czas.append(time.time() - czas_start_aw)\n",
        "                  historia_wspinaczkowy_długość.append(cel(najlepszy_wynik))\n",
        "            tablica = []\n",
        "        max_dl_roz -= 1\n",
        "    \n",
        "    return najlepszy_wynik\n",
        "czas_start_aw=time.time()\n",
        "roz = wspinaczkowy(lambda s: funkcjaCelu(s, punkty, odcinki, dlugosci))\n",
        "czas_koniec_aw=time.time()-czas_start_aw\n",
        "print(\"kolejność odwiedzonych punktów :\" , roz)\n",
        "print(\"długość najlepszego rozwiązania :\",funkcjaCelu(roz,punkty,odcinki,dlugosci))"
      ],
      "metadata": {
        "id": "VkD8I6aTDuu8",
        "colab": {
          "base_uri": "https://localhost:8080/"
        },
        "outputId": "0a5ed714-9093-4e5e-afd7-ff7a17a2a9e9"
      },
      "execution_count": 8,
      "outputs": [
        {
          "output_type": "stream",
          "name": "stdout",
          "text": [
            "kolejność odwiedzonych punktów : [1, 2, 4, 6, 5, 3, 1]\n",
            "długość najlepszego rozwiązania : 12\n"
          ]
        }
      ]
    },
    {
      "cell_type": "markdown",
      "source": [
        "# Symulowane wyżarzanie"
      ],
      "metadata": {
        "id": "XJKZaufcbDo9"
      }
    },
    {
      "cell_type": "markdown",
      "source": [],
      "metadata": {
        "id": "138Qdjd8SxO4"
      }
    },
    {
      "cell_type": "code",
      "source": [
        "\n",
        "historia_wyzarzanie_sekwencje=[[1, 5, 1, 5, 1, 5, 1, 5, 1, 5, 1, 5, 1, 5, 1]]\n",
        "historia_wyzarzanie_czas =[0]\n",
        "historia_wyzarzanie_długość = [60]\n",
        "historia_wyzarzanie_procesor = [0]\n",
        "historia_wyzarzanie_czas_procesor=[0]\n",
        "def symulowaneWyzarzanie(cel, Temperatura):\n",
        "    max_dl_roz = len(odcinki)  # maksymalny rozmiar rozwiązania\n",
        "    min_dl_roz = int((len(odcinki) / 2) - 1)  # najmniejszy rozmiar rozwiązania\n",
        "    iteracje = 2000  # ilość literacji\n",
        "    tablica = []  # lista punktów odwiedzanych w proponowanym rozwiązaniu\n",
        "    najlepszy_wynik =  [1, 5, 1, 5, 1, 5, 1, 5, 1, 5, 1, 5, 1, 5, 1]\n",
        "    while max_dl_roz >= min_dl_roz:\n",
        "        V = [najlepszy_wynik]\n",
        "        for j in range(1, iteracje + 1, 1):\n",
        "            roz = generowanieLosowejKolejnoci(max_dl_roz, punkty, odcinki)\n",
        "            nowe_roz =losowySasiad(roz, punkty, odcinki)\n",
        "            for k in range(1, len(punkty) + 1):\n",
        "                odw_ptk = k in nowe_roz\n",
        "                if odw_ptk:\n",
        "                    tablica.append(k)\n",
        "            if (len(tablica) == len(punkty)) and \\\n",
        "                    (nowe_roz[0] == nowe_roz[len(nowe_roz) - 1]) and \\\n",
        "                    cel(nowe_roz) <= cel(najlepszy_wynik):\n",
        "                najlepszy_wynik = nowe_roz\n",
        "                historia_wyzarzanie_procesor.append(psutil.cpu_percent())# zapisujemy dane dla celów wizulizacji oraz porównania\n",
        "                historia_wyzarzanie_czas_procesor.append(time.time() - czas_start_sw) \n",
        "                znacznik = False\n",
        "                for i in historia_wyzarzanie_sekwencje:\n",
        "                  if i == najlepszy_wynik:\n",
        "                    znacznik = True\n",
        "                if znacznik == False:\n",
        "                  V.append(najlepszy_wynik)\n",
        "                  historia_wyzarzanie_sekwencje.append(najlepszy_wynik) # zapisujemy dane dla celów wizulizacji oraz porównania\n",
        "                  historia_wyzarzanie_czas.append(time.time() - czas_start_sw)\n",
        "                  historia_wyzarzanie_długość.append(cel(najlepszy_wynik))\n",
        "\n",
        "\n",
        "            else:\n",
        "                e = math.exp(- abs(cel(najlepszy_wynik) - cel(nowe_roz)) / Temperatura(j))\n",
        "                u = random.uniform(0.0, 1.0)\n",
        "                if (u < e) and \\\n",
        "                        (len(tablica) == len(punkty)) and \\\n",
        "                        (nowe_roz[0] == nowe_roz[len(nowe_roz) - 1]):\n",
        "                    najlepszy_wynik = nowe_roz\n",
        "                    historia_wyzarzanie_procesor.append(psutil.cpu_percent())# zapisujemy dane dla celów wizulizacji oraz porównania\n",
        "                    historia_wyzarzanie_czas_procesor.append(time.time() - czas_start_sw) \n",
        "                    znacznik = False\n",
        "                    for i in historia_wyzarzanie_sekwencje:\n",
        "                      if i == najlepszy_wynik:\n",
        "                        znacznik = True\n",
        "                    if znacznik == False:\n",
        "                      V.append(najlepszy_wynik)\n",
        "                      historia_wyzarzanie_sekwencje.append(najlepszy_wynik)# zapisujemy dane dla celów wizulizacji oraz porównania\n",
        "                      historia_wyzarzanie_czas.append(time.time() - czas_start_sw)\n",
        "                      historia_wyzarzanie_długość.append(cel(najlepszy_wynik))\n",
        "                    \n",
        "            tablica = []\n",
        "        max_dl_roz -= 1\n",
        "    return min(V, key=cel)\n",
        "czas_start_sw=time.time()\n",
        "\n",
        "roz = symulowaneWyzarzanie(lambda s: funkcjaCelu(s, punkty, odcinki, dlugosci),lambda k: 1000 / k)\n",
        "czas_koniec_sw=time.time()-czas_start_sw\n",
        "print(\"kolejność odwiedzonych punktów\", roz)\n",
        "print(\"długość najlepszego rozwiązania :\", funkcjaCelu(roz,punkty,odcinki,dlugosci))"
      ],
      "metadata": {
        "id": "d6LgdGYFSxwX",
        "colab": {
          "base_uri": "https://localhost:8080/"
        },
        "outputId": "4cd5ee1f-c643-46b5-f5db-1649f7ca672d"
      },
      "execution_count": 9,
      "outputs": [
        {
          "output_type": "stream",
          "name": "stdout",
          "text": [
            "kolejność odwiedzonych punktów [1, 2, 4, 6, 5, 3, 1]\n",
            "długość najlepszego rozwiązania : 12\n"
          ]
        }
      ]
    },
    {
      "cell_type": "markdown",
      "source": [
        "# Porównanie metod oraz wykres"
      ],
      "metadata": {
        "id": "dNbjcxztbOPv"
      }
    },
    {
      "cell_type": "markdown",
      "source": [
        "Poprzez wykonanie około 20 prób można stwierdzić, że algorytm wspinaczkowy jest  szybszy, ale ilość możliwych wyników jest mniejsza "
      ],
      "metadata": {
        "id": "79VpJcwBqXSw"
      }
    },
    {
      "cell_type": "markdown",
      "source": [
        "Algorytm wspinaczkowy- wyniki testowe:"
      ],
      "metadata": {
        "id": "9dsD-nD5q4KA"
      }
    },
    {
      "cell_type": "code",
      "source": [
        "print(roz)\n",
        "print(\"Czas działania: \", czas_koniec_aw)\n",
        "print(\"Ilość rozwiązań spełniających warunek rozwiąznia :\", len(historia_wspinaczkowy_długość))"
      ],
      "metadata": {
        "id": "QVwe_Toi36Ey",
        "colab": {
          "base_uri": "https://localhost:8080/"
        },
        "outputId": "e7c83392-95ef-4cb2-c7d1-36d11164858d"
      },
      "execution_count": 10,
      "outputs": [
        {
          "output_type": "stream",
          "name": "stdout",
          "text": [
            "[1, 2, 4, 6, 5, 3, 1]\n",
            "Czas działania:  1.371063470840454\n",
            "Ilość rozwiązań spełniających warunek rozwiąznia : 38\n"
          ]
        }
      ]
    },
    {
      "cell_type": "markdown",
      "source": [
        "Algorytm symulowanego wyżarzania- wyniki testowe:"
      ],
      "metadata": {
        "id": "y7e9ewRf4AgM"
      }
    },
    {
      "cell_type": "code",
      "source": [
        "print(roz)\n",
        "print(\"Czas działania: \", czas_koniec_sw)\n",
        "print(\"Ilość rozwiązań spełniających warunek rozwiąznia :\",len(historia_wyzarzanie_długość))"
      ],
      "metadata": {
        "id": "PTVlzPqc4PDW",
        "colab": {
          "base_uri": "https://localhost:8080/"
        },
        "outputId": "244909e4-6030-423c-d6a5-2ae28a325732"
      },
      "execution_count": 11,
      "outputs": [
        {
          "output_type": "stream",
          "name": "stdout",
          "text": [
            "[1, 2, 4, 6, 5, 3, 1]\n",
            "Czas działania:  2.2364885807037354\n",
            "Ilość rozwiązań spełniających warunek rozwiąznia : 134\n"
          ]
        }
      ]
    },
    {
      "cell_type": "code",
      "source": [
        "!pip install --upgrade plotly\n",
        "!pip install jupyter-dash\n"
      ],
      "metadata": {
        "colab": {
          "base_uri": "https://localhost:8080/"
        },
        "id": "ElzSUkOMJ0MH",
        "outputId": "0eab95d8-cccc-41c1-ba9d-318c2211ed2a"
      },
      "execution_count": 12,
      "outputs": [
        {
          "output_type": "stream",
          "name": "stdout",
          "text": [
            "Looking in indexes: https://pypi.org/simple, https://us-python.pkg.dev/colab-wheels/public/simple/\n",
            "Requirement already satisfied: plotly in /usr/local/lib/python3.10/dist-packages (5.13.1)\n",
            "Collecting plotly\n",
            "  Downloading plotly-5.15.0-py2.py3-none-any.whl (15.5 MB)\n",
            "\u001b[2K     \u001b[90m━━━━━━━━━━━━━━━━━━━━━━━━━━━━━━━━━━━━━━━━\u001b[0m \u001b[32m15.5/15.5 MB\u001b[0m \u001b[31m59.7 MB/s\u001b[0m eta \u001b[36m0:00:00\u001b[0m\n",
            "\u001b[?25hRequirement already satisfied: tenacity>=6.2.0 in /usr/local/lib/python3.10/dist-packages (from plotly) (8.2.2)\n",
            "Requirement already satisfied: packaging in /usr/local/lib/python3.10/dist-packages (from plotly) (23.1)\n",
            "Installing collected packages: plotly\n",
            "  Attempting uninstall: plotly\n",
            "    Found existing installation: plotly 5.13.1\n",
            "    Uninstalling plotly-5.13.1:\n",
            "      Successfully uninstalled plotly-5.13.1\n",
            "Successfully installed plotly-5.15.0\n",
            "Looking in indexes: https://pypi.org/simple, https://us-python.pkg.dev/colab-wheels/public/simple/\n",
            "Collecting jupyter-dash\n",
            "  Downloading jupyter_dash-0.4.2-py3-none-any.whl (23 kB)\n",
            "Collecting dash (from jupyter-dash)\n",
            "  Downloading dash-2.10.2-py3-none-any.whl (10.3 MB)\n",
            "\u001b[2K     \u001b[90m━━━━━━━━━━━━━━━━━━━━━━━━━━━━━━━━━━━━━━━━\u001b[0m \u001b[32m10.3/10.3 MB\u001b[0m \u001b[31m54.9 MB/s\u001b[0m eta \u001b[36m0:00:00\u001b[0m\n",
            "\u001b[?25hRequirement already satisfied: requests in /usr/local/lib/python3.10/dist-packages (from jupyter-dash) (2.27.1)\n",
            "Requirement already satisfied: flask in /usr/local/lib/python3.10/dist-packages (from jupyter-dash) (2.2.4)\n",
            "Collecting retrying (from jupyter-dash)\n",
            "  Downloading retrying-1.3.4-py3-none-any.whl (11 kB)\n",
            "Requirement already satisfied: ipython in /usr/local/lib/python3.10/dist-packages (from jupyter-dash) (8.14.0)\n",
            "Requirement already satisfied: ipykernel in /usr/local/lib/python3.10/dist-packages (from jupyter-dash) (5.5.6)\n",
            "Collecting ansi2html (from jupyter-dash)\n",
            "  Downloading ansi2html-1.8.0-py3-none-any.whl (16 kB)\n",
            "Requirement already satisfied: nest-asyncio in /usr/local/lib/python3.10/dist-packages (from jupyter-dash) (1.5.6)\n",
            "Collecting Werkzeug<2.3.0 (from dash->jupyter-dash)\n",
            "  Downloading Werkzeug-2.2.3-py3-none-any.whl (233 kB)\n",
            "\u001b[2K     \u001b[90m━━━━━━━━━━━━━━━━━━━━━━━━━━━━━━━━━━━━━━\u001b[0m \u001b[32m233.6/233.6 kB\u001b[0m \u001b[31m20.5 MB/s\u001b[0m eta \u001b[36m0:00:00\u001b[0m\n",
            "\u001b[?25hRequirement already satisfied: plotly>=5.0.0 in /usr/local/lib/python3.10/dist-packages (from dash->jupyter-dash) (5.15.0)\n",
            "Collecting dash-html-components==2.0.0 (from dash->jupyter-dash)\n",
            "  Downloading dash_html_components-2.0.0-py3-none-any.whl (4.1 kB)\n",
            "Collecting dash-core-components==2.0.0 (from dash->jupyter-dash)\n",
            "  Downloading dash_core_components-2.0.0-py3-none-any.whl (3.8 kB)\n",
            "Collecting dash-table==5.0.0 (from dash->jupyter-dash)\n",
            "  Downloading dash_table-5.0.0-py3-none-any.whl (3.9 kB)\n",
            "Requirement already satisfied: Jinja2>=3.0 in /usr/local/lib/python3.10/dist-packages (from flask->jupyter-dash) (3.1.2)\n",
            "Requirement already satisfied: itsdangerous>=2.0 in /usr/local/lib/python3.10/dist-packages (from flask->jupyter-dash) (2.1.2)\n",
            "Requirement already satisfied: click>=8.0 in /usr/local/lib/python3.10/dist-packages (from flask->jupyter-dash) (8.1.3)\n",
            "Requirement already satisfied: ipython-genutils in /usr/local/lib/python3.10/dist-packages (from ipykernel->jupyter-dash) (0.2.0)\n",
            "Requirement already satisfied: traitlets>=4.1.0 in /usr/local/lib/python3.10/dist-packages (from ipykernel->jupyter-dash) (5.7.1)\n",
            "Requirement already satisfied: jupyter-client in /usr/local/lib/python3.10/dist-packages (from ipykernel->jupyter-dash) (6.1.12)\n",
            "Requirement already satisfied: tornado>=4.2 in /usr/local/lib/python3.10/dist-packages (from ipykernel->jupyter-dash) (6.3.1)\n",
            "Requirement already satisfied: backcall in /usr/local/lib/python3.10/dist-packages (from ipython->jupyter-dash) (0.2.0)\n",
            "Requirement already satisfied: decorator in /usr/local/lib/python3.10/dist-packages (from ipython->jupyter-dash) (5.1.1)\n",
            "Requirement already satisfied: jedi>=0.16 in /usr/local/lib/python3.10/dist-packages (from ipython->jupyter-dash) (0.18.2)\n",
            "Requirement already satisfied: matplotlib-inline in /usr/local/lib/python3.10/dist-packages (from ipython->jupyter-dash) (0.1.6)\n",
            "Requirement already satisfied: pickleshare in /usr/local/lib/python3.10/dist-packages (from ipython->jupyter-dash) (0.7.5)\n",
            "Requirement already satisfied: prompt-toolkit!=3.0.37,<3.1.0,>=3.0.30 in /usr/local/lib/python3.10/dist-packages (from ipython->jupyter-dash) (3.0.38)\n",
            "Requirement already satisfied: pygments>=2.4.0 in /usr/local/lib/python3.10/dist-packages (from ipython->jupyter-dash) (2.14.0)\n",
            "Requirement already satisfied: stack-data in /usr/local/lib/python3.10/dist-packages (from ipython->jupyter-dash) (0.6.2)\n",
            "Requirement already satisfied: pexpect>4.3 in /usr/local/lib/python3.10/dist-packages (from ipython->jupyter-dash) (4.8.0)\n",
            "Requirement already satisfied: urllib3<1.27,>=1.21.1 in /usr/local/lib/python3.10/dist-packages (from requests->jupyter-dash) (1.26.15)\n",
            "Requirement already satisfied: certifi>=2017.4.17 in /usr/local/lib/python3.10/dist-packages (from requests->jupyter-dash) (2022.12.7)\n",
            "Requirement already satisfied: charset-normalizer~=2.0.0 in /usr/local/lib/python3.10/dist-packages (from requests->jupyter-dash) (2.0.12)\n",
            "Requirement already satisfied: idna<4,>=2.5 in /usr/local/lib/python3.10/dist-packages (from requests->jupyter-dash) (3.4)\n",
            "Requirement already satisfied: six>=1.7.0 in /usr/local/lib/python3.10/dist-packages (from retrying->jupyter-dash) (1.16.0)\n",
            "Requirement already satisfied: parso<0.9.0,>=0.8.0 in /usr/local/lib/python3.10/dist-packages (from jedi>=0.16->ipython->jupyter-dash) (0.8.3)\n",
            "Requirement already satisfied: MarkupSafe>=2.0 in /usr/local/lib/python3.10/dist-packages (from Jinja2>=3.0->flask->jupyter-dash) (2.1.2)\n",
            "Requirement already satisfied: ptyprocess>=0.5 in /usr/local/lib/python3.10/dist-packages (from pexpect>4.3->ipython->jupyter-dash) (0.7.0)\n",
            "Requirement already satisfied: tenacity>=6.2.0 in /usr/local/lib/python3.10/dist-packages (from plotly>=5.0.0->dash->jupyter-dash) (8.2.2)\n",
            "Requirement already satisfied: packaging in /usr/local/lib/python3.10/dist-packages (from plotly>=5.0.0->dash->jupyter-dash) (23.1)\n",
            "Requirement already satisfied: wcwidth in /usr/local/lib/python3.10/dist-packages (from prompt-toolkit!=3.0.37,<3.1.0,>=3.0.30->ipython->jupyter-dash) (0.2.6)\n",
            "Requirement already satisfied: jupyter-core>=4.6.0 in /usr/local/lib/python3.10/dist-packages (from jupyter-client->ipykernel->jupyter-dash) (5.3.0)\n",
            "Requirement already satisfied: pyzmq>=13 in /usr/local/lib/python3.10/dist-packages (from jupyter-client->ipykernel->jupyter-dash) (23.2.1)\n",
            "Requirement already satisfied: python-dateutil>=2.1 in /usr/local/lib/python3.10/dist-packages (from jupyter-client->ipykernel->jupyter-dash) (2.8.2)\n",
            "Requirement already satisfied: executing>=1.2.0 in /usr/local/lib/python3.10/dist-packages (from stack-data->ipython->jupyter-dash) (1.2.0)\n",
            "Requirement already satisfied: asttokens>=2.1.0 in /usr/local/lib/python3.10/dist-packages (from stack-data->ipython->jupyter-dash) (2.2.1)\n",
            "Requirement already satisfied: pure-eval in /usr/local/lib/python3.10/dist-packages (from stack-data->ipython->jupyter-dash) (0.2.2)\n",
            "Requirement already satisfied: platformdirs>=2.5 in /usr/local/lib/python3.10/dist-packages (from jupyter-core>=4.6.0->jupyter-client->ipykernel->jupyter-dash) (3.3.0)\n",
            "Installing collected packages: dash-table, dash-html-components, dash-core-components, Werkzeug, retrying, ansi2html, dash, jupyter-dash\n",
            "  Attempting uninstall: Werkzeug\n",
            "    Found existing installation: Werkzeug 2.3.0\n",
            "    Uninstalling Werkzeug-2.3.0:\n",
            "      Successfully uninstalled Werkzeug-2.3.0\n",
            "Successfully installed Werkzeug-2.2.3 ansi2html-1.8.0 dash-2.10.2 dash-core-components-2.0.0 dash-html-components-2.0.0 dash-table-5.0.0 jupyter-dash-0.4.2 retrying-1.3.4\n"
          ]
        }
      ]
    },
    {
      "cell_type": "code",
      "source": [
        "import matplotlib.pyplot as plt\n",
        "\n",
        "\n",
        "print(historia_wspinaczkowy_czas)\n",
        "print(historia_wspinaczkowy_długość)\n",
        "\n",
        "plt.figure().set_figwidth(20)\n",
        "\n",
        "plt.plot (historia_wspinaczkowy_czas, historia_wspinaczkowy_długość, label = \"wspinaczkowy\")\n",
        "plt.plot(historia_wspinaczkowy_czas,historia_wspinaczkowy_długość,'x', label=\"rozwiązanie \",ms = 15)\n",
        "plt.plot(historia_wspinaczkowy_czas_procesor,historia_wspinaczkowy_procesor,'p', label=\"CPU\",ms = 10)\n",
        "plt.xlabel('Czas')\n",
        "plt.ylabel('Dystans')\n",
        "plt.legend()\n",
        "plt.grid()\n",
        "plt.show()\n",
        "\n",
        "print( historia_wyzarzanie_czas)\n",
        "print(historia_wyzarzanie_długość)\n",
        "plt.figure().set_figwidth(20)\n",
        "plt.plot (historia_wyzarzanie_czas, historia_wyzarzanie_długość, label = \"wyzarzanie\")\n",
        "plt.plot(historia_wyzarzanie_czas,historia_wyzarzanie_długość,'x', label=\"rozwiązanie \",ms = 15)\n",
        "plt.plot(historia_wyzarzanie_czas_procesor,historia_wyzarzanie_procesor,'p', label=\"CPU\",ms = 10)\n",
        "plt.xlabel('Czas')\n",
        "plt.ylabel('Dystans')\n",
        "plt.legend()\n",
        "plt.grid()\n",
        "plt.show()\n",
        "\n",
        "\n"
      ],
      "metadata": {
        "colab": {
          "base_uri": "https://localhost:8080/",
          "height": 973
        },
        "id": "sN1REy3MJ_dH",
        "outputId": "067b564d-b166-4812-994e-62fb90196fb1"
      },
      "execution_count": 13,
      "outputs": [
        {
          "output_type": "stream",
          "name": "stdout",
          "text": [
            "[0, 0.000446319580078125, 0.0016069412231445312, 0.0021893978118896484, 0.005409955978393555, 0.010257244110107422, 0.021355867385864258, 0.02508711814880371, 0.04006052017211914, 0.04275393486022949, 0.08693861961364746, 0.0966954231262207, 0.1374807357788086, 0.18802809715270996, 0.22428655624389648, 0.24927663803100586, 0.3440871238708496, 0.4150533676147461, 0.4291989803314209, 0.43172144889831543, 0.43520641326904297, 0.44229841232299805, 0.4534263610839844, 0.4977853298187256, 0.5802779197692871, 0.8512969017028809, 0.9184401035308838, 0.9755971431732178, 1.0229318141937256, 1.1446092128753662, 1.1451497077941895, 1.1600582599639893, 1.1635053157806396, 1.1666817665100098, 1.186539649963379, 1.1962931156158447, 1.293821096420288, 1.3218903541564941]\n",
            "[60, 40, 34, 34, 34, 34, 34, 34, 34, 28, 26, 26, 26, 24, 24, 24, 24, 24, 24, 24, 24, 22, 22, 18, 18, 16, 16, 16, 16, 16, 14, 14, 14, 14, 14, 14, 12, 12]\n"
          ]
        },
        {
          "output_type": "display_data",
          "data": {
            "text/plain": [
              "<Figure size 2000x480 with 1 Axes>"
            ],
            "image/png": "[encoded data removed]"
          },
          "metadata": {}
        },
        {
          "output_type": "stream",
          "name": "stdout",
          "text": [
            "[0, 0.001247406005859375, 0.003465890884399414, 0.004849910736083984, 0.005616664886474609, 0.006415367126464844, 0.010380744934082031, 0.010838985443115234, 0.011373519897460938, 0.012993574142456055, 0.014844417572021484, 0.015889644622802734, 0.016649484634399414, 0.01951432228088379, 0.02387380599975586, 0.02881026268005371, 0.03173470497131348, 0.032816410064697266, 0.04069948196411133, 0.047028303146362305, 0.05361819267272949, 0.057054758071899414, 0.08795833587646484, 0.11860179901123047, 0.16332459449768066, 0.17389535903930664, 0.20665550231933594, 0.22808384895324707, 0.2745237350463867, 0.2805595397949219, 0.2861630916595459, 0.29846739768981934, 0.33780694007873535, 0.34917211532592773, 0.44739294052124023, 0.511451005935669, 0.5131454467773438, 0.5140235424041748, 0.5144174098968506, 0.5175042152404785, 0.5183353424072266, 0.5197584629058838, 0.5230884552001953, 0.5268263816833496, 0.5312871932983398, 0.5315589904785156, 0.5358376502990723, 0.5417079925537109, 0.5424559116363525, 0.5430448055267334, 0.5442845821380615, 0.5644450187683105, 0.5729954242706299, 0.596024751663208, 0.5982866287231445, 0.6051216125488281, 0.8060750961303711, 0.8399560451507568, 0.8439865112304688, 0.8469245433807373, 0.8497743606567383, 0.8520841598510742, 0.8527965545654297, 0.854712963104248, 0.8591349124908447, 0.8910784721374512, 0.8917603492736816, 0.9054808616638184, 0.9069650173187256, 0.9082159996032715, 0.9093835353851318, 0.9184908866882324, 0.9244623184204102, 0.9254322052001953, 0.9388000965118408, 0.9405167102813721, 0.9645318984985352, 0.9657673835754395, 0.984318733215332, 1.0279886722564697, 1.0680031776428223, 1.0723376274108887, 1.0953292846679688, 1.1028053760528564, 1.1443002223968506, 1.1467311382293701, 1.146892786026001, 1.1516518592834473, 1.1554102897644043, 1.1580395698547363, 1.1583139896392822, 1.158552646636963, 1.1596088409423828, 1.1642162799835205, 1.1722261905670166, 1.1750831604003906, 1.1765758991241455, 1.1830627918243408, 1.2010343074798584, 1.2041676044464111, 1.2098231315612793, 1.2171611785888672, 1.221827745437622, 1.2325358390808105, 1.2456464767456055, 1.3173863887786865, 1.3222849369049072, 1.3275017738342285, 1.3319447040557861, 1.332383632659912, 1.3328468799591064, 1.3393075466156006, 1.3420214653015137, 1.3526184558868408, 1.3541820049285889, 1.356287956237793, 1.3609366416931152, 1.36199951171875, 1.3623154163360596, 1.3992223739624023, 1.5072503089904785, 1.6931588649749756, 1.696317195892334, 1.697195291519165, 1.7127745151519775, 1.7793629169464111, 1.790419101715088, 1.8168463706970215, 2.0335214138031006, 2.059776782989502, 2.064692497253418, 2.0973494052886963, 2.1315925121307373, 2.1863327026367188]\n",
            "[60, 46, 46, 34, 38, 40, 40, 44, 40, 42, 38, 46, 42, 46, 38, 36, 34, 34, 34, 34, 32, 26, 28, 28, 28, 28, 30, 26, 30, 32, 34, 24, 22, 20, 20, 26, 38, 46, 38, 42, 34, 30, 32, 30, 40, 38, 28, 28, 34, 32, 30, 26, 28, 28, 24, 22, 22, 26, 28, 26, 28, 42, 32, 26, 26, 26, 30, 32, 34, 36, 32, 28, 28, 26, 26, 28, 28, 28, 24, 24, 20, 20, 18, 18, 20, 32, 22, 24, 28, 32, 36, 28, 22, 26, 24, 22, 22, 22, 22, 22, 24, 24, 24, 22, 20, 20, 20, 20, 24, 26, 26, 28, 16, 26, 24, 24, 26, 24, 16, 16, 16, 24, 22, 14, 14, 14, 14, 14, 18, 16, 16, 16, 12, 12]\n"
          ]
        },
        {
          "output_type": "display_data",
          "data": {
            "text/plain": [
              "<Figure size 2000x480 with 1 Axes>"
            ],
            "image/png": "[encoded data removed]"
          },
          "metadata": {}
        }
      ]
    },
    {
      "cell_type": "markdown",
      "source": [
        "# Wizualizacja\n",
        "\n",
        "---\n",
        "\n"
      ],
      "metadata": {
        "id": "oL7m7aTYbQ2R"
      }
    },
    {
      "cell_type": "code",
      "source": [
        "from manim import *\n",
        "import numpy as np\n",
        "import random"
      ],
      "metadata": {
        "id": "BgoD93WRHQdq",
        "colab": {
          "base_uri": "https://localhost:8080/",
          "height": 356
        },
        "outputId": "6298b0bc-d176-4e2d-a1d4-3a914ecf4ca5"
      },
      "execution_count": 14,
      "outputs": [
        {
          "output_type": "error",
          "ename": "ContextualVersionConflict",
          "evalue": "ignored",
          "traceback": [
            "\u001b[0;31m---------------------------------------------------------------------------\u001b[0m",
            "\u001b[0;31mContextualVersionConflict\u001b[0m                 Traceback (most recent call last)",
            "\u001b[0;32m<ipython-input-14-e32fbb8784f3>\u001b[0m in \u001b[0;36m<cell line: 1>\u001b[0;34m()\u001b[0m\n\u001b[0;32m----> 1\u001b[0;31m \u001b[0;32mfrom\u001b[0m \u001b[0mmanim\u001b[0m \u001b[0;32mimport\u001b[0m \u001b[0;34m*\u001b[0m\u001b[0;34m\u001b[0m\u001b[0;34m\u001b[0m\u001b[0m\n\u001b[0m\u001b[1;32m      2\u001b[0m \u001b[0;32mimport\u001b[0m \u001b[0mnumpy\u001b[0m \u001b[0;32mas\u001b[0m \u001b[0mnp\u001b[0m\u001b[0;34m\u001b[0m\u001b[0;34m\u001b[0m\u001b[0m\n\u001b[1;32m      3\u001b[0m \u001b[0;32mimport\u001b[0m \u001b[0mrandom\u001b[0m\u001b[0;34m\u001b[0m\u001b[0;34m\u001b[0m\u001b[0m\n",
            "\u001b[0;32m/usr/local/lib/python3.10/dist-packages/manim/__init__.py\u001b[0m in \u001b[0;36m<module>\u001b[0;34m\u001b[0m\n\u001b[1;32m      6\u001b[0m \u001b[0;32mimport\u001b[0m \u001b[0mpkg_resources\u001b[0m\u001b[0;34m\u001b[0m\u001b[0;34m\u001b[0m\u001b[0m\n\u001b[1;32m      7\u001b[0m \u001b[0;34m\u001b[0m\u001b[0m\n\u001b[0;32m----> 8\u001b[0;31m \u001b[0m__version__\u001b[0m\u001b[0;34m:\u001b[0m \u001b[0mstr\u001b[0m \u001b[0;34m=\u001b[0m \u001b[0mpkg_resources\u001b[0m\u001b[0;34m.\u001b[0m\u001b[0mget_distribution\u001b[0m\u001b[0;34m(\u001b[0m\u001b[0m__name__\u001b[0m\u001b[0;34m)\u001b[0m\u001b[0;34m.\u001b[0m\u001b[0mversion\u001b[0m\u001b[0;34m\u001b[0m\u001b[0;34m\u001b[0m\u001b[0m\n\u001b[0m\u001b[1;32m      9\u001b[0m \u001b[0;34m\u001b[0m\u001b[0m\n\u001b[1;32m     10\u001b[0m \u001b[0;34m\u001b[0m\u001b[0m\n",
            "\u001b[0;32m/usr/local/lib/python3.10/dist-packages/pkg_resources/__init__.py\u001b[0m in \u001b[0;36mget_distribution\u001b[0;34m(dist)\u001b[0m\n\u001b[1;32m    524\u001b[0m         \u001b[0mdist\u001b[0m \u001b[0;34m=\u001b[0m \u001b[0mRequirement\u001b[0m\u001b[0;34m.\u001b[0m\u001b[0mparse\u001b[0m\u001b[0;34m(\u001b[0m\u001b[0mdist\u001b[0m\u001b[0;34m)\u001b[0m\u001b[0;34m\u001b[0m\u001b[0;34m\u001b[0m\u001b[0m\n\u001b[1;32m    525\u001b[0m     \u001b[0;32mif\u001b[0m \u001b[0misinstance\u001b[0m\u001b[0;34m(\u001b[0m\u001b[0mdist\u001b[0m\u001b[0;34m,\u001b[0m \u001b[0mRequirement\u001b[0m\u001b[0;34m)\u001b[0m\u001b[0;34m:\u001b[0m\u001b[0;34m\u001b[0m\u001b[0;34m\u001b[0m\u001b[0m\n\u001b[0;32m--> 526\u001b[0;31m         \u001b[0mdist\u001b[0m \u001b[0;34m=\u001b[0m \u001b[0mget_provider\u001b[0m\u001b[0;34m(\u001b[0m\u001b[0mdist\u001b[0m\u001b[0;34m)\u001b[0m\u001b[0;34m\u001b[0m\u001b[0;34m\u001b[0m\u001b[0m\n\u001b[0m\u001b[1;32m    527\u001b[0m     \u001b[0;32mif\u001b[0m \u001b[0;32mnot\u001b[0m \u001b[0misinstance\u001b[0m\u001b[0;34m(\u001b[0m\u001b[0mdist\u001b[0m\u001b[0;34m,\u001b[0m \u001b[0mDistribution\u001b[0m\u001b[0;34m)\u001b[0m\u001b[0;34m:\u001b[0m\u001b[0;34m\u001b[0m\u001b[0;34m\u001b[0m\u001b[0m\n\u001b[1;32m    528\u001b[0m         \u001b[0;32mraise\u001b[0m \u001b[0mTypeError\u001b[0m\u001b[0;34m(\u001b[0m\u001b[0;34m\"Expected string, Requirement, or Distribution\"\u001b[0m\u001b[0;34m,\u001b[0m \u001b[0mdist\u001b[0m\u001b[0;34m)\u001b[0m\u001b[0;34m\u001b[0m\u001b[0;34m\u001b[0m\u001b[0m\n",
            "\u001b[0;32m/usr/local/lib/python3.10/dist-packages/pkg_resources/__init__.py\u001b[0m in \u001b[0;36mget_provider\u001b[0;34m(moduleOrReq)\u001b[0m\n\u001b[1;32m    396\u001b[0m     \u001b[0;34m\"\"\"Return an IResourceProvider for the named module or requirement\"\"\"\u001b[0m\u001b[0;34m\u001b[0m\u001b[0;34m\u001b[0m\u001b[0m\n\u001b[1;32m    397\u001b[0m     \u001b[0;32mif\u001b[0m \u001b[0misinstance\u001b[0m\u001b[0;34m(\u001b[0m\u001b[0mmoduleOrReq\u001b[0m\u001b[0;34m,\u001b[0m \u001b[0mRequirement\u001b[0m\u001b[0;34m)\u001b[0m\u001b[0;34m:\u001b[0m\u001b[0;34m\u001b[0m\u001b[0;34m\u001b[0m\u001b[0m\n\u001b[0;32m--> 398\u001b[0;31m         \u001b[0;32mreturn\u001b[0m \u001b[0mworking_set\u001b[0m\u001b[0;34m.\u001b[0m\u001b[0mfind\u001b[0m\u001b[0;34m(\u001b[0m\u001b[0mmoduleOrReq\u001b[0m\u001b[0;34m)\u001b[0m \u001b[0;32mor\u001b[0m \u001b[0mrequire\u001b[0m\u001b[0;34m(\u001b[0m\u001b[0mstr\u001b[0m\u001b[0;34m(\u001b[0m\u001b[0mmoduleOrReq\u001b[0m\u001b[0;34m)\u001b[0m\u001b[0;34m)\u001b[0m\u001b[0;34m[\u001b[0m\u001b[0;36m0\u001b[0m\u001b[0;34m]\u001b[0m\u001b[0;34m\u001b[0m\u001b[0;34m\u001b[0m\u001b[0m\n\u001b[0m\u001b[1;32m    399\u001b[0m     \u001b[0;32mtry\u001b[0m\u001b[0;34m:\u001b[0m\u001b[0;34m\u001b[0m\u001b[0;34m\u001b[0m\u001b[0m\n\u001b[1;32m    400\u001b[0m         \u001b[0mmodule\u001b[0m \u001b[0;34m=\u001b[0m \u001b[0msys\u001b[0m\u001b[0;34m.\u001b[0m\u001b[0mmodules\u001b[0m\u001b[0;34m[\u001b[0m\u001b[0mmoduleOrReq\u001b[0m\u001b[0;34m]\u001b[0m\u001b[0;34m\u001b[0m\u001b[0;34m\u001b[0m\u001b[0m\n",
            "\u001b[0;32m/usr/local/lib/python3.10/dist-packages/pkg_resources/__init__.py\u001b[0m in \u001b[0;36mrequire\u001b[0;34m(self, *requirements)\u001b[0m\n\u001b[1;32m    964\u001b[0m         \u001b[0mincluded\u001b[0m\u001b[0;34m,\u001b[0m \u001b[0meven\u001b[0m \u001b[0;32mif\u001b[0m \u001b[0mthey\u001b[0m \u001b[0mwere\u001b[0m \u001b[0malready\u001b[0m \u001b[0mactivated\u001b[0m \u001b[0;32min\u001b[0m \u001b[0mthis\u001b[0m \u001b[0mworking\u001b[0m \u001b[0mset\u001b[0m\u001b[0;34m.\u001b[0m\u001b[0;34m\u001b[0m\u001b[0;34m\u001b[0m\u001b[0m\n\u001b[1;32m    965\u001b[0m         \"\"\"\n\u001b[0;32m--> 966\u001b[0;31m         \u001b[0mneeded\u001b[0m \u001b[0;34m=\u001b[0m \u001b[0mself\u001b[0m\u001b[0;34m.\u001b[0m\u001b[0mresolve\u001b[0m\u001b[0;34m(\u001b[0m\u001b[0mparse_requirements\u001b[0m\u001b[0;34m(\u001b[0m\u001b[0mrequirements\u001b[0m\u001b[0;34m)\u001b[0m\u001b[0;34m)\u001b[0m\u001b[0;34m\u001b[0m\u001b[0;34m\u001b[0m\u001b[0m\n\u001b[0m\u001b[1;32m    967\u001b[0m \u001b[0;34m\u001b[0m\u001b[0m\n\u001b[1;32m    968\u001b[0m         \u001b[0;32mfor\u001b[0m \u001b[0mdist\u001b[0m \u001b[0;32min\u001b[0m \u001b[0mneeded\u001b[0m\u001b[0;34m:\u001b[0m\u001b[0;34m\u001b[0m\u001b[0;34m\u001b[0m\u001b[0m\n",
            "\u001b[0;32m/usr/local/lib/python3.10/dist-packages/pkg_resources/__init__.py\u001b[0m in \u001b[0;36mresolve\u001b[0;34m(self, requirements, env, installer, replace_conflicting, extras)\u001b[0m\n\u001b[1;32m    825\u001b[0m                 \u001b[0;32mcontinue\u001b[0m\u001b[0;34m\u001b[0m\u001b[0;34m\u001b[0m\u001b[0m\n\u001b[1;32m    826\u001b[0m \u001b[0;34m\u001b[0m\u001b[0m\n\u001b[0;32m--> 827\u001b[0;31m             dist = self._resolve_dist(\n\u001b[0m\u001b[1;32m    828\u001b[0m                 \u001b[0mreq\u001b[0m\u001b[0;34m,\u001b[0m \u001b[0mbest\u001b[0m\u001b[0;34m,\u001b[0m \u001b[0mreplace_conflicting\u001b[0m\u001b[0;34m,\u001b[0m \u001b[0menv\u001b[0m\u001b[0;34m,\u001b[0m \u001b[0minstaller\u001b[0m\u001b[0;34m,\u001b[0m \u001b[0mrequired_by\u001b[0m\u001b[0;34m,\u001b[0m \u001b[0mto_activate\u001b[0m\u001b[0;34m\u001b[0m\u001b[0;34m\u001b[0m\u001b[0m\n\u001b[1;32m    829\u001b[0m             )\n",
            "\u001b[0;32m/usr/local/lib/python3.10/dist-packages/pkg_resources/__init__.py\u001b[0m in \u001b[0;36m_resolve_dist\u001b[0;34m(self, req, best, replace_conflicting, env, installer, required_by, to_activate)\u001b[0m\n\u001b[1;32m    871\u001b[0m             \u001b[0;31m# Oops, the \"best\" so far conflicts with a dependency\u001b[0m\u001b[0;34m\u001b[0m\u001b[0;34m\u001b[0m\u001b[0m\n\u001b[1;32m    872\u001b[0m             \u001b[0mdependent_req\u001b[0m \u001b[0;34m=\u001b[0m \u001b[0mrequired_by\u001b[0m\u001b[0;34m[\u001b[0m\u001b[0mreq\u001b[0m\u001b[0;34m]\u001b[0m\u001b[0;34m\u001b[0m\u001b[0;34m\u001b[0m\u001b[0m\n\u001b[0;32m--> 873\u001b[0;31m             \u001b[0;32mraise\u001b[0m \u001b[0mVersionConflict\u001b[0m\u001b[0;34m(\u001b[0m\u001b[0mdist\u001b[0m\u001b[0;34m,\u001b[0m \u001b[0mreq\u001b[0m\u001b[0;34m)\u001b[0m\u001b[0;34m.\u001b[0m\u001b[0mwith_context\u001b[0m\u001b[0;34m(\u001b[0m\u001b[0mdependent_req\u001b[0m\u001b[0;34m)\u001b[0m\u001b[0;34m\u001b[0m\u001b[0;34m\u001b[0m\u001b[0m\n\u001b[0m\u001b[1;32m    874\u001b[0m         \u001b[0;32mreturn\u001b[0m \u001b[0mdist\u001b[0m\u001b[0;34m\u001b[0m\u001b[0;34m\u001b[0m\u001b[0m\n\u001b[1;32m    875\u001b[0m \u001b[0;34m\u001b[0m\u001b[0m\n",
            "\u001b[0;31mContextualVersionConflict\u001b[0m: (networkx 3.1 (/usr/local/lib/python3.10/dist-packages), Requirement.parse('networkx<3.0,>=2.5'), {'manim'})"
          ]
        }
      ]
    },
    {
      "cell_type": "code",
      "source": [
        "%%manim MojaScena\n",
        "\n",
        "\n",
        "class MojaScena(Scene):\n",
        "  def construct(self):\n",
        "    print(historia_wspinaczkowy_długość)\n",
        "    for i in range(1,len(historia_wspinaczkowy_długość) +1 , 1):\n",
        "      circle = Circle(radius =historia_wspinaczkowy_długość[i-1]*0.12).set_stroke(color=random_color(), width=10)\n",
        "\n",
        "      self.add(circle)\n",
        "      self.wait(1)\n",
        "  \n"
      ],
      "metadata": {
        "id": "adrZkU8_HiWX"
      },
      "execution_count": null,
      "outputs": []
    },
    {
      "cell_type": "markdown",
      "source": [],
      "metadata": {
        "id": "8bNOn_624zCY"
      }
    },
    {
      "cell_type": "code",
      "source": [
        "%%manim MojaScena\n",
        "\n",
        "class MojaScena(Scene):\n",
        "  def construct(self):\n",
        "    print(historia_wyzarzanie_długość)\n",
        "    for i in range(1,len(historia_wyzarzanie_długość) +1 , 1):\n",
        "      circle = Circle(radius =historia_wyzarzanie_długość[i-1]*0.12).set_stroke(color=random_color(), width=10)\n",
        "\n",
        "      self.add(circle)\n",
        "      self.wait(0.5)\n"
      ],
      "metadata": {
        "id": "vKHlm9II4xXo"
      },
      "execution_count": null,
      "outputs": []
    },
    {
      "cell_type": "markdown",
      "source": [
        "Tworzenie grafu polega na stworzeniu słownika \"graph\", który rysuje graf na podstawie podanych krawędzi, następnie wypisuje listę sąsiadów dla każdego wierzchołka."
      ],
      "metadata": {
        "id": "vgn4U3-zJgbD"
      }
    },
    {
      "cell_type": "code",
      "source": [
        "%%manim MojaScena\n",
        "\n",
        "\n",
        "\n",
        "  \n",
        "\n",
        "class MojaScena(Scene):\n",
        "  def construct(self):\n",
        "    \n",
        "    print(historia_wspinaczkowy_sekwencje)\n",
        "    print(historia_wspinaczkowy_sekwencje[1])\n",
        "    circle1 =Circle(radius =0.5).set_stroke(color=WHITE, width=10)\n",
        "    circle2 =Circle(radius =0.5).set_stroke(color=WHITE, width=10)\n",
        "    circle3 =Circle(radius =0.5).set_stroke(color=WHITE, width=10)\n",
        "    circle4 =Circle(radius =0.5).set_stroke(color=WHITE, width=10)\n",
        "    circle5 =Circle(radius =0.5).set_stroke(color=WHITE, width=10)\n",
        "    circle6 =Circle(radius =0.5).set_stroke(color=WHITE, width=10)\n",
        "    circle4.shift([5,0,0])\n",
        "    circle3.shift([-5,0,0])\n",
        "    circle1.shift([-3,2,0])\n",
        "    circle2.shift([3,2,0])\n",
        "    circle5.shift([-3,-2,0])\n",
        "    circle6.shift([3,-2,0])\n",
        "    self.add(circle4)\n",
        "    self.add(circle3)\n",
        "    self.add(circle1)\n",
        "    self.add(circle2)\n",
        "    self.add(circle5)\n",
        "    self.add(circle6)\n",
        "    for j in range(1,len(historia_wspinaczkowy_sekwencje),1):\n",
        "      for i in range(0,len(historia_wspinaczkowy_sekwencje[j]) ,1):\n",
        "        if historia_wspinaczkowy_sekwencje[j][i] == 1 :\n",
        "          circle1 = Circle(radius = 0.5, color = RED, fill_opacity = 1).shift([-3,2,0])\n",
        "          self.add(circle1)\n",
        "          self.wait(0.2)\n",
        "          self.remove(circle1)\n",
        "          self.wait(0.2)\n",
        "        if historia_wspinaczkowy_sekwencje[j][i] == 2 :\n",
        "          circle2 = Circle(radius = 0.5, color = RED, fill_opacity = 1).shift([3,2,0])\n",
        "          self.add(circle2)\n",
        "          self.wait(0.2)\n",
        "          self.remove(circle2)\n",
        "          self.wait(0.2)\n",
        "        if historia_wspinaczkowy_sekwencje[j][i] == 3 :\n",
        "          circle3 = Circle(radius = 0.5, color = RED, fill_opacity = 1).shift([-5,0,0])\n",
        "          self.add(circle3)\n",
        "          self.wait(0.2)\n",
        "          self.remove(circle3)\n",
        "          self.wait(0.2)\n",
        "        if historia_wspinaczkowy_sekwencje[j][i] == 4 :\n",
        "          circle4 = Circle(radius = 0.5, color = RED, fill_opacity = 1).shift([5,0,0])\n",
        "          self.add(circle4)\n",
        "          self.wait(0.2)\n",
        "          self.remove(circle4)\n",
        "          self.wait(0.2)\n",
        "        if historia_wspinaczkowy_sekwencje[j][i] == 5 :\n",
        "          circle5 = Circle(radius = 0.5, color = RED, fill_opacity = 1).shift([-3,-2,0])\n",
        "          self.add(circle5)\n",
        "          self.wait(0.2)\n",
        "          self.remove(circle5)\n",
        "          self.wait(0.2)\n",
        "        if historia_wspinaczkowy_sekwencje[j][i] == 6 :\n",
        "          circle6 = Circle(radius = 0.5, color = RED, fill_opacity = 1).shift([3,-2,0])\n",
        "          self.add(circle6)\n",
        "          self.wait(0.2)\n",
        "          self.remove(circle6)\n",
        "          self.wait(0.2)\n",
        "      self.wait(1)\n",
        "      "
      ],
      "metadata": {
        "id": "yTFeLPUrkEwX"
      },
      "execution_count": null,
      "outputs": []
    }
  ]
}